{
 "cells": [
  {
   "cell_type": "code",
   "execution_count": 3,
   "metadata": {
    "collapsed": false
   },
   "outputs": [],
   "source": [
    "import numpy as np\n",
    "import matplotlib.pyplot as plt\n",
    "%matplotlib inline"
   ]
  },
  {
   "cell_type": "markdown",
   "metadata": {},
   "source": [
    "## Table: iMPI function call runtime"
   ]
  },
  {
   "cell_type": "code",
   "execution_count": 6,
   "metadata": {
    "collapsed": false
   },
   "outputs": [
    {
     "name": "stdout",
     "output_type": "stream",
     "text": [
      "probe_adapt --- count: 144, sum: 0.08920690999999997 sec, avg: 0.0006194924305555553 sec\n",
      "adapt_begin --- count: 32, sum: 28.267231259999996 sec, avg: 0.8833509768749999 sec\n",
      "adapt_commit --- count: 16, sum: 1.20773578 sec, avg: 0.07548348625 sec\n",
      "total adapt --- count: 14, sum: 20.67162306444444 sec, avg: 1.4765445046031742 sec\n"
     ]
    }
   ],
   "source": [
    "#====== Set these before plotting ======\n",
    "logfile = open('output/swe_impi_local2n2t_console.log','r')\n",
    "#=======================================\n",
    "\n",
    "probe_adapt_count = 0\n",
    "probe_adapt_time_sum = 0.0\n",
    "probe_adapt_time_avg = 0.0\n",
    "\n",
    "adapt_begin_count = 0\n",
    "adapt_begin_time_sum = 0.0\n",
    "adapt_begin_time_avg = 0.0\n",
    "\n",
    "adapt_commit_count = 0\n",
    "adapt_commit_time_sum = 0.0\n",
    "adapt_commit_time_avg = 0.0\n",
    "\n",
    "joining_probe_adapt_count = 0\n",
    "joining_probe_adapt_time_sum = 0.0\n",
    "total_adapt_count = 0\n",
    "total_adapt_time_sum = 0.0\n",
    "total_adapt_time_avg = 0.0\n",
    "\n",
    "for line in logfile:    \n",
    "    # only count the staying ranks' probe_adapt time\n",
    "    if \"(4): probe_adapt\" in line:\n",
    "        line = line.split()\n",
    "        probe_adapt_time_sum += float(line[-2])\n",
    "        probe_adapt_count += 1\n",
    "        \n",
    "    if \"adapt_begin\" in line:\n",
    "        line = line.split()\n",
    "        adapt_begin_time_sum += float(line[-8])\n",
    "        adapt_begin_count += 1\n",
    "\n",
    "    if \"(4): adapt_commit\" in line:\n",
    "        line = line.split()\n",
    "        adapt_commit_time_sum += float(line[-2])\n",
    "        adapt_commit_count += 1\n",
    "        \n",
    "    # need the joining ranks probe adapt time to properly compute total adapt time\n",
    "    if \"(3): probe_adapt\" in line:\n",
    "        line = line.split()\n",
    "        joining_probe_adapt_time_sum += float(line[-2])\n",
    "        joining_probe_adapt_count += 1 \n",
    "        \n",
    "    if \"Total adaption time\" in line:\n",
    "        line = line.split()\n",
    "        total_adapt_time_sum += float(line[-2])\n",
    "        total_adapt_count += 1 \n",
    "        \n",
    "probe_adapt_time_avg = probe_adapt_time_sum / probe_adapt_count\n",
    "adapt_begin_time_avg = adapt_begin_time_sum / adapt_begin_count\n",
    "adapt_commit_time_avg = adapt_commit_time_sum / adapt_commit_count\n",
    "\n",
    "# We want to subtract all the \"total adaption time\" contributed by the joining ranks\n",
    "total_adapt_time_sum -= joining_probe_adapt_time_sum\n",
    "total_adapt_time_sum -= probe_adapt_time_avg * joining_probe_adapt_count\n",
    "total_adapt_time_sum -= adapt_begin_time_avg * joining_probe_adapt_count\n",
    "total_adapt_time_sum -= adapt_commit_time_avg * joining_probe_adapt_count\n",
    "\n",
    "total_adapt_count -= joining_probe_adapt_count\n",
    "\n",
    "total_adapt_time_avg = total_adapt_time_sum / total_adapt_count\n",
    "\n",
    "\n",
    "print('probe_adapt --- count: {}, sum: {} sec, avg: {} sec'.format(probe_adapt_count, \n",
    "        probe_adapt_time_sum, probe_adapt_time_avg))\n",
    "\n",
    "print('adapt_begin --- count: {}, sum: {} sec, avg: {} sec'.format(adapt_begin_count, \n",
    "        adapt_begin_time_sum, adapt_begin_time_avg))\n",
    "\n",
    "print('adapt_commit --- count: {}, sum: {} sec, avg: {} sec'.format(adapt_commit_count, \n",
    "        adapt_commit_time_sum, adapt_commit_time_avg))\n",
    "\n",
    "print('total adapt --- count: {}, sum: {} sec, avg: {} sec'.format(total_adapt_count, \n",
    "        total_adapt_time_sum, total_adapt_time_avg))\n"
   ]
  },
  {
   "cell_type": "markdown",
   "metadata": {},
   "source": [
    "## Figure: # of Cells vs. Exec Time, static MPI"
   ]
  },
  {
   "cell_type": "code",
   "execution_count": 6,
   "metadata": {
    "collapsed": false,
    "scrolled": true
   },
   "outputs": [],
   "source": [
    "#====== Set these before plotting ======\n",
    "logfile = open('output/swe_mpi_local2n2t_console.log','r')\n",
    "totalranks = 4\n",
    "#=======================================\n",
    "\n",
    "# 1. Generate data series\n",
    "elaptime = []\n",
    "ncells = []\n",
    "for line in logfile:\n",
    "    if \"sec elapsed\" in line:\n",
    "        line = line.split()\n",
    "        elaptime = elaptime + [float(line[-5])]\n",
    "        ncells = ncells + [int(line[-2]) * totalranks] \n",
    "    \n",
    "    if \"elapsed time (sec)\" in line:\n",
    "        line = line.split()   \n",
    "        elaptime = elaptime + [float((line[-3])[:-1])]\n",
    "        ncells = ncells + [int(line[-1]) * totalranks]\n",
    "logfile.close()"
   ]
  },
  {
   "cell_type": "code",
   "execution_count": 9,
   "metadata": {
    "collapsed": false
   },
   "outputs": [
    {
     "data": {
      "text/plain": [
       "<matplotlib.text.Text at 0x7f08caf6fe80>"
      ]
     },
     "execution_count": 9,
     "metadata": {},
     "output_type": "execute_result"
    },
    {
     "data": {
      "image/png": "[encoded data removed]",
      "text/plain": [
       "<matplotlib.figure.Figure at 0x7f08caf13a20>"
      ]
     },
     "metadata": {},
     "output_type": "display_data"
    }
   ],
   "source": [
    "# 2. Plot\n",
    "plt.figure(1)\n",
    "plt.plot(elaptime, ncells)\n",
    "plt.title('Number of grid cells vs. Execution time')\n",
    "plt.xlabel('Execution time (seconds)')\n",
    "plt.ylabel('Number of grid cells')"
   ]
  },
  {
   "cell_type": "code",
   "execution_count": 18,
   "metadata": {
    "collapsed": false,
    "scrolled": true
   },
   "outputs": [
    {
     "name": "stdout",
     "output_type": "stream",
     "text": [
      "[0, 1, 2, 3, 4, 5, 6, 7, 8, 9]\n"
     ]
    }
   ],
   "source": [
    "import itertools\n",
    "\n",
    "x = []\n",
    "\n",
    "for i in range(0,10):\n",
    "    x = x + [i]\n",
    "    \n",
    "print(x)\n",
    "\n",
    "\n"
   ]
  },
  {
   "cell_type": "code",
   "execution_count": null,
   "metadata": {
    "collapsed": true
   },
   "outputs": [],
   "source": []
  }
 ],
 "metadata": {
  "kernelspec": {
   "display_name": "Python 3",
   "language": "python",
   "name": "python3"
  },
  "language_info": {
   "codemirror_mode": {
    "name": "ipython",
    "version": 3
   },
   "file_extension": ".py",
   "mimetype": "text/x-python",
   "name": "python",
   "nbconvert_exporter": "python",
   "pygments_lexer": "ipython3",
   "version": "3.5.2"
  }
 },
 "nbformat": 4,
 "nbformat_minor": 1
}
