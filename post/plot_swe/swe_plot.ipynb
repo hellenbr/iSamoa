{
 "cells": [
  {
   "cell_type": "code",
   "execution_count": null,
   "metadata": {
    "collapsed": true
   },
   "outputs": [],
   "source": [
    "#########################################\n",
    "##  Import libraries and functions\n",
    "#########################################\n",
    "import numpy as np\n",
    "%matplotlib inline\n",
    "import matplotlib.pyplot as plt\n",
    "# import matplotlib.gridspec as gridspec\n",
    "# import linecache\n",
    "# import sys\n",
    "\n",
    "#Usage: generate_component_table(input_file)\n",
    "from swe_processing import generate_component_table\n",
    "\n",
    "#Usage: generate_impi_table(fin)\n",
    "from swe_processing import generate_impi_table\n",
    "\n",
    "#Usage: cpuhours = compute_cpuhours(walltime, numranks)\n",
    "from swe_processing import compute_cpuhours\n",
    "\n",
    "#Usage: (simtime, walltime, numcells, numranks) = getdata_sim(fin)\n",
    "from swe_processing import getdata_sim\n",
    "\n",
    "#Usage: (nranks, T_timestep) = getdata_tstep(filename, maxranks, rankspernode)\n",
    "from swe_processing import getdata_tstep\n",
    "\n",
    "#Usage: (fig, ax) = create_figure()\n",
    "from swe_processing import create_figure\n",
    "\n",
    "#Usage: plot_1d(xvec, yvec, xrange, yrange, xtitle, ytitle, outfig, printdots=False)\n",
    "from swe_processing import plot_1d\n",
    "\n",
    "#Usage: plot_1d_2scales(xvec, yvec1, yvec2, xrange, yrange1, yrange2, xtitle, ytitle1, ytitle2, outfig)\n",
    "from swe_processing import plot_1d_2scales\n",
    "\n"
   ]
  },
  {
   "cell_type": "code",
   "execution_count": null,
   "metadata": {
    "collapsed": true
   },
   "outputs": [],
   "source": [
    "###################################\n",
    "##### PROVIDE INPUTS HERE !!! #####\n",
    "###################################\n",
    "# Valid runs\n",
    "fin1 = \"/media/data/emily/Downloads/testswe/swe.out\"\n",
    "wallhrs1 = 12\n",
    "\n",
    "fin = fin1\n",
    "wallhrs = wallhrs1\n",
    "\n",
    "# Specify the output figure path & name\n",
    "fout = '.'\n"
   ]
  },
  {
   "cell_type": "code",
   "execution_count": null,
   "metadata": {
    "scrolled": true
   },
   "outputs": [],
   "source": [
    "generate_impi_table(fin)"
   ]
  },
  {
   "cell_type": "code",
   "execution_count": null,
   "metadata": {},
   "outputs": [],
   "source": [
    "generate_component_table(fin)"
   ]
  },
  {
   "cell_type": "code",
   "execution_count": null,
   "metadata": {},
   "outputs": [],
   "source": [
    "(simtime, walltime, numcells, numranks) = getdata_sim(fin)\n",
    "\n",
    "cpuhrs = compute_cpuhours(walltime, numranks)\n",
    "print(cpuhrs)"
   ]
  },
  {
   "cell_type": "code",
   "execution_count": null,
   "metadata": {},
   "outputs": [],
   "source": [
    "#####\n",
    "# plot \"Cells vs Sim.time (hours):\n",
    "#####\n",
    "xvec = [x/3600 for x in simtime]\n",
    "yvec = numcells\n",
    "xrange = [0,0]  #use [0,0] to auto set xlim\n",
    "yrange = [0,0]  #use [0,0] to auto set ylim\n",
    "xtitle = \"Simulation time (hours)\"\n",
    "ytitle = \"Number of grid cells\"\n",
    "outfig = fout+\"/cells_vs_simhrs.pdf\"\n",
    "\n",
    "plot_1d(xvec, yvec, xrange, yrange, xtitle, ytitle, outfig)\n",
    "    "
   ]
  },
  {
   "cell_type": "code",
   "execution_count": null,
   "metadata": {},
   "outputs": [],
   "source": [
    "#####\n",
    "# plot \"Ranks vs Sim.time (hours):\n",
    "#####\n",
    "xvec = [x/3600 for x in simtime]\n",
    "yvec = numranks\n",
    "xrange = [0,0]  #use [0,0] to auto set xlim\n",
    "yrange = [0,0]  #use [0,0] to auto set ylim\n",
    "xtitle = \"Simulation time (hours)\"\n",
    "ytitle = \"Number of MPI ranks\"\n",
    "outfig = fout+\"/ranks_vs_simhrs.pdf\"\n",
    "\n",
    "plot_1d(xvec, yvec, xrange, yrange, xtitle, ytitle, outfig)\n",
    "    "
   ]
  },
  {
   "cell_type": "code",
   "execution_count": null,
   "metadata": {},
   "outputs": [],
   "source": [
    "#####\n",
    "# plot \"Ranks|Cells vs Sim.time (hours):\n",
    "#####\n",
    "xvec = [x/3600 for x in simtime]\n",
    "yvec1 = numranks\n",
    "yvec2 = numcells\n",
    "xrange = [0,0]  #use [0,0] to auto set xlim\n",
    "yrange1 = [0,0]  #use [0,0] to auto set ylim\n",
    "yrange2 = [0,0]  #use [0,0] to auto set ylim\n",
    "xtitle = \"Simulation time (hours)\"\n",
    "ytitle1 = \"Number of MPI ranks\"\n",
    "ytitle2 = \"Number of grid cells\"\n",
    "outfig = fout+\"/ranks_cells_vs_simhrs.pdf\"\n",
    "\n",
    "plot_1d_2scales(xvec, yvec1, yvec2, xrange, yrange1, yrange2, xtitle, ytitle1, ytitle2, outfig)"
   ]
  },
  {
   "cell_type": "code",
   "execution_count": null,
   "metadata": {},
   "outputs": [],
   "source": [
    "#####\n",
    "# plot \"Cells vs Exec.time (hrs):\n",
    "#####\n",
    "xvec = [x/3600 for x in walltime]\n",
    "yvec = numcells\n",
    "xrange = [0,0]  #use [0,0] to auto set xlim\n",
    "yrange = [0,0]  #use [0,0] to auto set ylim\n",
    "xtitle = \"Execution time (hours)\"\n",
    "ytitle = \"Number of grid cells\"\n",
    "outfig = fout+\"/cells_vs_wallhrs.pdf\"\n",
    "\n",
    "plot_1d(xvec, yvec, xrange, yrange, xtitle, ytitle, outfig)\n",
    "    "
   ]
  },
  {
   "cell_type": "code",
   "execution_count": null,
   "metadata": {},
   "outputs": [],
   "source": [
    "#####\n",
    "# plot \"Ranks vs Exec.time (hrs):\n",
    "#####\n",
    "xvec = [x/3600 for x in walltime]\n",
    "yvec = numranks\n",
    "xrange = [0,0]  #use [0,0] to auto set xlim\n",
    "yrange = [0,0]  #use [0,0] to auto set ylim\n",
    "xtitle = \"Execution time (hours)\"\n",
    "ytitle = \"Number of MPI ranks\"\n",
    "outfig = fout+\"/ranks_vs_wallhrs.pdf\"\n",
    "\n",
    "plot_1d(xvec, yvec, xrange, yrange, xtitle, ytitle, outfig)\n",
    "    "
   ]
  },
  {
   "cell_type": "code",
   "execution_count": null,
   "metadata": {},
   "outputs": [],
   "source": [
    "#####\n",
    "# plot \"Ranks|Cells vs Exec.time (hrs):\n",
    "#####\n",
    "xvec = [x/3600 for x in walltime]\n",
    "yvec1 = numranks\n",
    "yvec2 = numcells\n",
    "xrange = [0,0]  #use [0,0] to auto set xlim\n",
    "yrange1 = [0,0]  #use [0,0] to auto set ylim\n",
    "yrange2 = [0,0]  #use [0,0] to auto set ylim\n",
    "xtitle = \"Execution time (hours)\"\n",
    "ytitle1 = \"Number of MPI ranks\"\n",
    "ytitle2 = \"Number of grid cells\"\n",
    "outfig = fout+\"/ranks_cells_vs_wallhrs.pdf\"\n",
    "\n",
    "plot_1d_2scales(xvec, yvec1, yvec2, xrange, yrange1, yrange2, xtitle, ytitle1, ytitle2, outfig)"
   ]
  },
  {
   "cell_type": "code",
   "execution_count": null,
   "metadata": {},
   "outputs": [],
   "source": [
    "totalnodes = 20\n",
    "rankspernode = 28\n",
    "maxranks = totalnodes * rankspernode\n",
    "\n",
    "(ranks, tavg) = getdata_tstep(fin, maxranks, rankspernode)\n",
    "\n",
    "print(ranks)\n",
    "print(tavg)\n",
    "\n",
    "# Plot data\n",
    "xvec = ranks\n",
    "yvec = tavg\n",
    "xrange = [0,0]  #use [0,0] to auto set xlim\n",
    "yrange = [0,0.2]  #use [0,0] to auto set ylim\n",
    "xtitle = \"Number of MPI ranks\"\n",
    "ytitle = \"Average T_timestep (sec)\"\n",
    "outfig = fout+\"/Ttimestep_vs_ranks.pdf\"\n",
    "\n",
    "plot_1d(xvec, yvec, xrange, yrange, xtitle, ytitle, outfig, True)\n",
    "    \n"
   ]
  },
  {
   "cell_type": "code",
   "execution_count": null,
   "metadata": {
    "collapsed": true
   },
   "outputs": [],
   "source": [
    "(simtime1, walltime1, numcells1, numranks1) = getdata_sim(fin1)\n",
    "(simtime2, walltime2, numcells2, numranks2) = getdata_sim(fin2)\n",
    "(simtime3, walltime3, numcells3, numranks3) = getdata_sim(fin3)\n",
    "(simtime4, walltime4, numcells4, numranks4) = getdata_sim(fin4)"
   ]
  },
  {
   "cell_type": "code",
   "execution_count": null,
   "metadata": {
    "collapsed": true,
    "scrolled": true
   },
   "outputs": [],
   "source": [
    "(fig,ax) = create_figure()\n",
    "\n",
    "xvec = [x/3600 for x in walltime1]\n",
    "yvec = numranks1\n",
    "colorstr = 'r'\n",
    "legendstr = 'Static MPI with 16 ranks'\n",
    "ax.plot(xvec, yvec, colorstr, label=legendstr)\n",
    "ax.fill_between(xvec,yvec, facecolor=\"none\", hatch=\"/\", edgecolor=colorstr, linewidth=0.0)\n",
    "plt.vlines(xvec[-1], 0, yvec[-1], color=colorstr, linestyle='--')\n",
    "plt.text(xvec[-1]+0.5, -0.8, 'T1', color=colorstr, fontsize=10, fontweight='bold')\n",
    "\n",
    "# xvec = [x/3600 for x in walltime2]\n",
    "# yvec = numranks2\n",
    "# colorstr = 'k'\n",
    "# legendstr = \"iMPI with random iRM\"\n",
    "# ax.plot(xvec, yvec, colorstr, label=legendstr)\n",
    "\n",
    "xvec = [x/3600 for x in walltime3]\n",
    "yvec = numranks3\n",
    "colorstr = 'g'\n",
    "legendstr = \"Elastic MPI with stepping scheduler\"\n",
    "ax.plot(xvec, yvec, colorstr, label=legendstr)\n",
    "ax.fill_between(xvec,yvec, facecolor=\"none\", hatch=\"x\", edgecolor=colorstr, linewidth=0.0)\n",
    "plt.vlines(xvec[-1], 0, yvec[-1], color=colorstr, linestyle='--')\n",
    "plt.text(xvec[-1], -0.8, 'T2', color=colorstr, fontsize=10, fontweight='bold')\n",
    "\n",
    "xvec = [x/3600 for x in walltime4]\n",
    "yvec = numranks4\n",
    "colorstr = 'b'\n",
    "legendstr = \"Elastic MPI with 2 ranks unchanged\"\n",
    "ax.plot(xvec, yvec, colorstr, label=legendstr)\n",
    "ax.fill_between(xvec,yvec, facecolor=\"none\", hatch=\"*\", edgecolor=colorstr, linewidth=0.0)\n",
    "plt.vlines(xvec[-1], 0, yvec[-1], color=colorstr, linestyle='--')\n",
    "plt.text(xvec[-1], -0.8, 'T3', color=colorstr, fontsize=10, fontweight='bold')\n",
    "\n",
    "ax.legend(loc='upper right', framealpha=0.5, fontsize=14)\n",
    "ax.grid(True)\n",
    "ax.set_xlim(0,40)\n",
    "ax.set_ylim(0,17)\n",
    "ax.set_xlabel(\"Execution time (hours)\", fontsize=18)\n",
    "ax.set_ylabel(\"Number of MPI ranks\", fontsize=18)\n",
    "\n",
    "plt.savefig(fout+\"/impi_vs_mpi_runs.pdf\", bbox_inches=\"tight\")\n",
    "plt.show()   \n",
    "plt.close(fig)"
   ]
  },
  {
   "cell_type": "code",
   "execution_count": null,
   "metadata": {
    "collapsed": true
   },
   "outputs": [],
   "source": [
    "##################################\n",
    "#  Compare quality between runs\n",
    "##################################\n",
    "\n",
    "labels = ('0', 'Total simulation', 'Time step computation', 'Grid refinement', 'Grid conformity check', \n",
    "         'Load balancing', 'Resource adaptation', 'Others')\n",
    "\n",
    "run1data = [100.00, 43.04, 10.07, 13.35, 22.80, 0.00, 10.74]\n",
    "run2data = [100.00, 55.36, 13.88, 11.42, 13.33, 0.04,  5.98]\n",
    "run3data = [100.00, 44.04, 11.38, 13.43, 21.28, 0.01,  9.86]\n",
    "run4data = [100.00, 77.36, 16.44,  2.82,  0.68, 0.01,  2.70]\n",
    "\n",
    "(fig,ax) = create_figure()\n",
    "\n",
    "ind = np.arange(7) # the x locations for the groups\n",
    "width = 0.25       # the width of the bars\n",
    "p1 = ax.barh(ind+width*2, run1data, width, color='salmon', label='Static MPI with 16 ranks')\n",
    "p2 = ax.barh(ind+width*1, run3data, width, color='palegreen', label=\"Elastic MPI with stepping scheduler\")\n",
    "p3 = ax.barh(ind+width*0, run4data, width, color='skyblue', label=\"Elastic MPI with 2 ranks unchanged\")\n",
    "\n",
    "ax.set_yticklabels(labels, fontsize=18)\n",
    "ax.set_xlabel('% of total exec. time', fontsize=18)\n",
    "ax.legend(loc='upper right', framealpha=0.5, fontsize=14)\n",
    "\n",
    "plt.savefig(fout+\"/compare_run_quality.pdf\", bbox_inches=\"tight\")\n",
    "plt.show()   \n",
    "plt.close(fig)"
   ]
  },
  {
   "cell_type": "code",
   "execution_count": null,
   "metadata": {
    "collapsed": true
   },
   "outputs": [],
   "source": []
  }
 ],
 "metadata": {
  "kernelspec": {
   "display_name": "Python 3",
   "language": "python",
   "name": "python3"
  },
  "language_info": {
   "codemirror_mode": {
    "name": "ipython",
    "version": 3
   },
   "file_extension": ".py",
   "mimetype": "text/x-python",
   "name": "python",
   "nbconvert_exporter": "python",
   "pygments_lexer": "ipython3",
   "version": "3.5.2"
  }
 },
 "nbformat": 4,
 "nbformat_minor": 2
}
