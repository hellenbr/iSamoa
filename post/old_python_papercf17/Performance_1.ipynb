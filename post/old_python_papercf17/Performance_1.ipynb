{
 "cells": [
  {
   "cell_type": "code",
   "execution_count": 1,
   "metadata": {
    "collapsed": true
   },
   "outputs": [],
   "source": [
    "%matplotlib inline\n",
    "import matplotlib\n",
    "import numpy as np\n",
    "import matplotlib.pyplot as plt\n",
    "import linecache"
   ]
  },
  {
   "cell_type": "code",
   "execution_count": 27,
   "metadata": {},
   "outputs": [
    {
     "name": "stdout",
     "output_type": "stream",
     "text": [
      "/home/emily/Desktop/isamoa_data/good5_sb32n16t_d26min66_mpi_1458983/1458983.log\n"
     ]
    }
   ],
   "source": [
    "# set data path\n",
    "basepath = \"/home/emily/Desktop/isamoa_data/\"\n",
    "path = basepath + \"good5_sb32n16t_d26min66_mpi_1458983\"\n",
    "\n",
    "jobid = path[-7:]\n",
    "filename = path + '/' + jobid + '.log'\n",
    "print(filename)"
   ]
  },
  {
   "cell_type": "markdown",
   "metadata": {},
   "source": [
    "# Process Data"
   ]
  },
  {
   "cell_type": "code",
   "execution_count": 28,
   "metadata": {},
   "outputs": [],
   "source": [
    "phase_stats_markers = []\n",
    "nranks = []\n",
    "ncells = []\n",
    "nelaps = []\n",
    "\n",
    "mcells = []\n",
    "msteps = []\n",
    "\n",
    "####################\n",
    "# impi exec times\n",
    "####################\n",
    "\n",
    "f = open(filename, 'r')\n",
    "for i, line in enumerate(f,1):\n",
    "    \n",
    "    # find all \"phase statistics\" line numbers\n",
    "    if \"Phase statistics:\" in line:\n",
    "        phase_stats_markers = phase_stats_markers + [i]\n",
    "        \n",
    "    # Get nranks & ncells vs. time\n",
    "    if \">>>\" in line:\n",
    "        larr = line.split()\n",
    "        try:\n",
    "            ranks = int(larr[-1])\n",
    "            cells = int(larr[-3][:-1])\n",
    "            elaps = float(larr[-5][:-1])\n",
    "        except:\n",
    "            pass\n",
    "        else: \n",
    "            nranks = nranks + [ranks]\n",
    "            nelaps = nelaps + [elaps]\n",
    "            ncells = ncells + [cells * ranks]   \n",
    "            \n",
    "        # Get mcells vs. time steps\n",
    "        if \"time step:\" in line:\n",
    "            idx = larr.index('step:')\n",
    "            msteps = msteps + [int(larr[idx+1][:-1])]\n",
    "            idx = larr.index('cells:')\n",
    "            mcells = mcells + [cells * ranks]      \n",
    "f.close()\n",
    "\n",
    "\n",
    "# ####################\n",
    "# # Phase statistics\n",
    "# ####################\n",
    "\n",
    "# ps_init_time = 0.0\n",
    "# ps_eq_time = 0.0\n",
    "# ps_tsu_comp_time = 0.0\n",
    "# ps_tsu_adap_time = 0.0\n",
    "# ps_total_time = 0.0\n",
    "\n",
    "# for marker in phase_stats_markers:\n",
    "    \n",
    "#     # ranks\n",
    "#     line = linecache.getline(filename, marker+2)\n",
    "#     larr = line.split()\n",
    "#     ps_ranks = int(larr[-1])\n",
    "    \n",
    "#     # Init time\n",
    "#     line = linecache.getline(filename, marker+3)\n",
    "#     larr = line.split()\n",
    "#     idx = larr.index(\"time:\")\n",
    "#     ps_init_time = ps_init_time + float(larr[idx+1])/float(ps_ranks)\n",
    "    \n",
    "#     # Earthquake time\n",
    "#     line = linecache.getline(filename, marker+4)\n",
    "#     larr = line.split()\n",
    "#     idx = larr.index(\"time:\")\n",
    "#     ps_eq_time = ps_eq_time + float(larr[idx+1])/float(ps_ranks)\n",
    "    \n",
    "#     # Tsunami compute time\n",
    "#     line = linecache.getline(filename, marker+5)\n",
    "#     larr = line.split()\n",
    "#     idx = larr.index(\"time:\")\n",
    "#     ps_tsu_comp_time = ps_tsu_comp_time + float(larr[idx+1])/float(ps_ranks)\n",
    "    \n",
    "#     # Tsunami adaption time\n",
    "#     line = linecache.getline(filename, marker+6)\n",
    "#     larr = line.split()\n",
    "#     idx = larr.index(\"time:\")\n",
    "#     ps_tsu_adap_time = ps_tsu_adap_time + float(larr[idx+1])/float(ps_ranks)\n",
    "    \n",
    "#     # Total time\n",
    "#     line = linecache.getline(filename, marker+13)\n",
    "#     larr = line.split()\n",
    "#     idx = larr.index(\"time:\")\n",
    "#     ps_total_time = ps_total_time + float(larr[idx+1]) \n",
    "    \n",
    "\n"
   ]
  },
  {
   "cell_type": "markdown",
   "metadata": {},
   "source": [
    "# # Cells vs. Time step"
   ]
  },
  {
   "cell_type": "code",
   "execution_count": 29,
   "metadata": {},
   "outputs": [
    {
     "data": {
      "image/png": "[encoded data removed]",
      "text/plain": [
       "<matplotlib.figure.Figure at 0x7f01812d7278>"
      ]
     },
     "metadata": {},
     "output_type": "display_data"
    }
   ],
   "source": [
    "fig = plt.figure()\n",
    "ax = fig.gca()\n",
    "ax.plot(msteps, mcells)\n",
    "ax.set_xlabel(\"Simulation time step\")\n",
    "ax.set_ylabel(\"Number of grid cells\")\n",
    "ax.set_ylim()\n",
    "\n",
    "fig.savefig(path+\"/cells_vs_steps.pdf\",bbox_inches=\"tight\")"
   ]
  },
  {
   "cell_type": "markdown",
   "metadata": {},
   "source": [
    "# # Ranks vs. Exec Time"
   ]
  },
  {
   "cell_type": "code",
   "execution_count": 31,
   "metadata": {},
   "outputs": [
    {
     "name": "stdout",
     "output_type": "stream",
     "text": [
      "CPU-sec = 102512.07421952\n",
      "CPU-hour = 28.47557617208889\n"
     ]
    },
    {
     "data": {
      "image/png": "[encoded data removed]",
      "text/plain": [
       "<matplotlib.figure.Figure at 0x7f0181138240>"
      ]
     },
     "metadata": {},
     "output_type": "display_data"
    }
   ],
   "source": [
    "fig = plt.figure()\n",
    "ax = fig.gca()\n",
    "ax.plot(nelaps, nranks)\n",
    "ax.set_xlabel(\"Execution time (sec)\")\n",
    "ax.set_ylabel(\"Number of MPI ranks\")\n",
    "ax.set_ylim(0, 600)\n",
    "\n",
    "area = np.trapz(nranks, x=nelaps)\n",
    "print(\"CPU-sec = {}\".format(area))\n",
    "print(\"CPU-hour = {}\".format(area / 3600))\n",
    "\n"
   ]
  },
  {
   "cell_type": "code",
   "execution_count": null,
   "metadata": {
    "collapsed": true
   },
   "outputs": [],
   "source": []
  }
 ],
 "metadata": {
  "kernelspec": {
   "display_name": "Python 3",
   "language": "python",
   "name": "python3"
  },
  "language_info": {
   "codemirror_mode": {
    "name": "ipython",
    "version": 3
   },
   "file_extension": ".py",
   "mimetype": "text/x-python",
   "name": "python",
   "nbconvert_exporter": "python",
   "pygments_lexer": "ipython3",
   "version": "3.5.2"
  }
 },
 "nbformat": 4,
 "nbformat_minor": 1
}
