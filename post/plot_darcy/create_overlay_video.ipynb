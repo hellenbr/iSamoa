{
 "cells": [
  {
   "cell_type": "code",
   "execution_count": 1,
   "metadata": {
    "collapsed": true
   },
   "outputs": [],
   "source": [
    "import cv2 # OpenCV for image overlay\n",
    "\n",
    "###################################\n",
    "##### PROVIDE INPUTS HERE !!! #####\n",
    "###################################\n",
    "\n",
    "# Background frames prefix (the larger images)\n",
    "pre1 = \"./3/frames_vtk/darcyl16.\"\n",
    "suf1 = \".png\"\n",
    "# Front frames prefix (the smaller images)\n",
    "pre2 = \"./3/frames_node/nodes.\"\n",
    "suf2 = \".png\"\n",
    "# Output\n",
    "preout = \"./3/frames_overlay/overlay_\"\n",
    "sufout = \".png\""
   ]
  },
  {
   "cell_type": "code",
   "execution_count": 2,
   "metadata": {},
   "outputs": [],
   "source": [
    "####################\n",
    "# This fuction lays img2 (smaller) on top of img1 (larger)\n",
    "# (xoffset, yoffset) indicates position of img2's Upper-Left corner on img1 \n",
    "####################\n",
    "def create_overlay_image(bgfile, fgfile, outfile, isFixHeight, scale, xoffset, yoffset, isTest=False):\n",
    "    \n",
    "    # Load image files \n",
    "    img1 = cv2.imread(bgfile) # The larger image (background)\n",
    "    img2 = cv2.imread(fgfile) # The smaller image (foreground)\n",
    "    \n",
    "    # Get image dimensions\n",
    "    (h1, w1, d1) = img1.shape\n",
    "    (h2, w2, d2) = img2.shape\n",
    "    if isTest:\n",
    "        print(\"Img1 (Height, Width, Depth): \", h1, w1, d1)\n",
    "        print(\"Img2 (Height, Width, Depth): \", h2, w2, d2)\n",
    "    \n",
    "    # Scale img2 (fix eigher heitht or width)\n",
    "    if isFixHeight:\n",
    "        h2new = int(h1 * scale)\n",
    "        w2new = int(w2 * (h1 * scale / h2))\n",
    "    else:\n",
    "        w2new = int(w1 * scale)\n",
    "        h2new = int(h2 * (w1 * scale / w2))\n",
    "    img2new = cv2.resize(img2, (w2new, h2new))\n",
    "    \n",
    "    if isTest:\n",
    "        print(\"New img2 dimensions: \", img2new.shape[0], img2new.shape[1], img2new.shape[2])\n",
    "        \n",
    "    # Lay img2new over img1\n",
    "    x1 = int(w1 * xoffset)\n",
    "    y1 = int(h1 * yoffset)\n",
    "    y2 = y1 + img2new.shape[0]\n",
    "    x2 = x1 + img2new.shape[1]\n",
    "    img3 = img1\n",
    "    img3[y1:y2, x1:x2] = img2new\n",
    "    \n",
    "    # write output\n",
    "    cv2.imwrite(outfile,img3)\n",
    "\n",
    "    \n",
    "####################\n",
    "# This fuction sets (changes) pixel color of the input image\n",
    "####################\n",
    "def change_pixel_color(imgfile, outfile, xoffset, yoffset, xrange, yrange, colorR, colorB, colorG):\n",
    "    img = cv2.imread(imgfile)\n",
    "    (h, w, d) = img.shape\n",
    "    \n",
    "    y1 = int(h * yoffset)\n",
    "    x1 = int(w * xoffset)\n",
    "    y2 = y1 + int(h * yrange)\n",
    "    x2 = x1 + int(w * xrange)\n",
    "    \n",
    "    if (y2-y1 > 0) and (x2-x1 > 0):\n",
    "        img[y1:y2, x1:x2] = (colorR, colorB, colorG)\n",
    "    elif (y2-y1 <= 0) and (x2-x1 > 0):\n",
    "        img[:, x1:x2] = (colorR, colorB, colorG)\n",
    "    elif (y2-y1 > 0) and (x2-x1 <= 0):\n",
    "        img[y1:y2, :] = (colorR, colorB, colorG)\n",
    "    else:\n",
    "        img[:,:] = (colorR, colorB, colorG)\n",
    "        \n",
    "    cv2.imwrite(outfile, img)\n",
    "        "
   ]
  },
  {
   "cell_type": "code",
   "execution_count": 3,
   "metadata": {},
   "outputs": [
    {
     "name": "stdout",
     "output_type": "stream",
     "text": [
      "Img1 (Height, Width, Depth):  992 1852 3\n",
      "Img2 (Height, Width, Depth):  1080 1920 3\n",
      "New img2 dimensions:  297 529 3\n"
     ]
    }
   ],
   "source": [
    "####################\n",
    "# Test for 1 image\n",
    "####################\n",
    "\n",
    "bgfile = pre1 + '0000' + suf1\n",
    "fgfile = pre2 + '0000' + suf2\n",
    "outfile = preout + '0000' + sufout\n",
    "\n",
    "# Cover the black belt\n",
    "xoffset = 0.7\n",
    "yoffset = 0\n",
    "xrange = 0.01\n",
    "yrange = 0\n",
    "colorR, colorB, colorG = 255, 255, 255\n",
    "\n",
    "change_pixel_color(bgfile, outfile, xoffset, yoffset, xrange, yrange, colorR, colorB, colorG)\n",
    "\n",
    "# Overlay image\n",
    "isFixHeight = True\n",
    "scale = 0.3\n",
    "xoffset1 = 0.41\n",
    "yoffset1 = 0.65\n",
    "\n",
    "create_overlay_image(outfile, fgfile, outfile, isFixHeight, scale, xoffset1, yoffset1, True)\n"
   ]
  },
  {
   "cell_type": "code",
   "execution_count": 4,
   "metadata": {},
   "outputs": [],
   "source": [
    "for i in range(1,401):\n",
    "    idx = \"%04d\" % i\n",
    "    bgfile = pre1 + idx + suf1\n",
    "    fgfile = pre2 + idx + suf2\n",
    "    outfile = preout + idx + sufout\n",
    "    #1. cover the black belt\n",
    "    change_pixel_color(bgfile, outfile, xoffset, yoffset, xrange, yrange, colorR, colorB, colorG)\n",
    "    #2. Overlay image\n",
    "    create_overlay_image(outfile, fgfile, outfile, isFixHeight, scale, xoffset1, yoffset1, False)"
   ]
  },
  {
   "cell_type": "code",
   "execution_count": 5,
   "metadata": {},
   "outputs": [
    {
     "name": "stdout",
     "output_type": "stream",
     "text": [
      "ffmpeg -f image2 -i ./3/frames_overlay/overlay_%04d.png -r 4 -s 1920x1080 -vcodec libx264 -crf 20 -pix_fmt yuv420p ./3/demo.mp4\n"
     ]
    }
   ],
   "source": [
    "# Make video from png frames (ffmpeg)\n",
    "#------------------------------------\n",
    "# ffmpeg [input options] -i input_file [output options] output_file\n",
    "#\n",
    "# !!NOTE: Order matters, do not change order arbitrarily\n",
    "#\n",
    "# -f: input format\n",
    "# -r: fps (frame rate per second)\n",
    "# -s: resolution in pixel\n",
    "# -i: input files\n",
    "# -vcodec: video format\n",
    "# -crf: quality, number between 15-25 is really good\n",
    "# -pix_fmt: pixel format\n",
    "\n",
    "# Input part\n",
    "cmd ='ffmpeg -f image2 -i ' + preout + '%04d' + sufout\n",
    "# Output part (must come after input part)\n",
    "cmd = cmd + ' -r 4 -s 1920x1080 -vcodec libx264 -crf 20 -pix_fmt yuv420p ./3/demo.mp4'\n",
    "print(cmd)"
   ]
  },
  {
   "cell_type": "code",
   "execution_count": null,
   "metadata": {
    "collapsed": true
   },
   "outputs": [],
   "source": []
  }
 ],
 "metadata": {
  "kernelspec": {
   "display_name": "Python 3",
   "language": "python",
   "name": "python3"
  },
  "language_info": {
   "codemirror_mode": {
    "name": "ipython",
    "version": 3
   },
   "file_extension": ".py",
   "mimetype": "text/x-python",
   "name": "python",
   "nbconvert_exporter": "python",
   "pygments_lexer": "ipython3",
   "version": "3.5.2"
  }
 },
 "nbformat": 4,
 "nbformat_minor": 2
}
