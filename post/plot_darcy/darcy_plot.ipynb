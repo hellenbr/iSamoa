{
 "cells": [
  {
   "cell_type": "code",
   "execution_count": 1,
   "metadata": {
    "collapsed": true
   },
   "outputs": [],
   "source": [
    "#########################################\n",
    "##  Import libraries and functions\n",
    "#########################################\n",
    "import numpy as np\n",
    "import linecache\n",
    "%matplotlib inline\n",
    "import matplotlib.pyplot as plt\n",
    "import matplotlib.gridspec as gridspec"
   ]
  },
  {
   "cell_type": "code",
   "execution_count": 2,
   "metadata": {
    "collapsed": true
   },
   "outputs": [],
   "source": [
    "###################################\n",
    "##### PROVIDE INPUTS HERE !!! #####\n",
    "###################################\n",
    "\n",
    "# Specify the input file to read\n",
    "#fin = \"./darcy_mpi_inc482d.out\"\n",
    "fin = \"./darcy_irmrand_inc144d.out\"\n",
    "#fin = \"./darcy_irmrand_inc151d.out\"\n",
    "\n",
    "# Specify the output figure path & name\n",
    "fout = '/media/data/emily/Desktop/test_darcy_plot'\n"
   ]
  },
  {
   "cell_type": "code",
   "execution_count": 3,
   "metadata": {},
   "outputs": [],
   "source": [
    "'''\n",
    "This function returns data (simulation time, wall time, number of cells) in 3 equal-sized arrays\n",
    "This is for plotting grid cell growth profile during the simulation\n",
    "'''\n",
    "def get_data(filename):\n",
    "    # Define output arrays\n",
    "    simtime = []\n",
    "    walltime = []\n",
    "    numcells = []\n",
    "    numranks = []\n",
    "\n",
    "    f = open(filename, 'r')\n",
    "    for i, line in enumerate(f,1):\n",
    "        if \"Darcy Simulation\" in line:\n",
    "            arr = line.split()\n",
    "            \n",
    "            # Parse simulation time\n",
    "            idx = arr.index(\"sim.time\")\n",
    "            tsim = 0.0\n",
    "            for i in range(idx+1, idx+4):\n",
    "                # remove comma if any\n",
    "                tmp = arr[i].replace(',','')\n",
    "                if 'd' in tmp:\n",
    "                    tsim += int(tmp.replace('d','')) * 3600 * 24\n",
    "                elif 'h' in tmp:\n",
    "                    tsim += int(tmp.replace('h','')) * 3600\n",
    "                elif 'min' in tmp:\n",
    "                    tsim += int(tmp.replace('min','')) * 60\n",
    "                elif 'ms' in tmp:\n",
    "                    tsim += int(tmp.replace('ms','')) * 1e-3\n",
    "                elif 'µs' in tmp:\n",
    "                    continue #igore microsec \n",
    "                elif 's' in tmp:\n",
    "                    tsim += int(tmp.replace('s',''))\n",
    "\n",
    "            # Parse wall time\n",
    "            idx = arr.index(\"elap.time(sec)\")\n",
    "            twall = float(arr[idx+1])\n",
    "\n",
    "            # Parse cells and ranks\n",
    "            idx = arr.index(\"cells\")\n",
    "            ncells = int(arr[idx+1])\n",
    "            idx = arr.index(\"ranks\")\n",
    "            nranks = int(arr[idx+1])\n",
    "\n",
    "            # Put data in output arrays\n",
    "            simtime += [tsim]\n",
    "            walltime += [twall]\n",
    "            numcells += [ncells * nranks]\n",
    "            numranks += [nranks]\n",
    "    f.close()\n",
    "    return (simtime, walltime, numcells, numranks)\n",
    "\n",
    "(simtime, walltime, numcells, numranks) = get_data(fin)\n"
   ]
  },
  {
   "cell_type": "code",
   "execution_count": null,
   "metadata": {},
   "outputs": [],
   "source": [
    "def plot_cells_vs_simday(xarr, yarr, figout):\n",
    "    import matplotlib.pyplot as plt\n",
    "    # Figure setup\n",
    "    fig = plt.figure(frameon = True)\n",
    "    # 9.6 inch x 200 dpi = 1920\n",
    "    # 5.4 inch x 200 dpi = 1080\n",
    "    fig.set_size_inches(9.6, 5.4) \n",
    "    host = fig.add_subplot(1,1,1)\n",
    "    \n",
    "    xx = [x/3600/24 for x in xarr]\n",
    "    yy = yarr\n",
    "    host.plot(xx, yy, color='k')\n",
    "    \n",
    "    host.set_xlabel(\"Simulation time (days)\")\n",
    "    host.set_ylabel(\"Number of grid cells\")\n",
    "    host.set_xlim(0,155)\n",
    "    host.set_ylim(4000,6100)\n",
    "\n",
    "    plt.savefig(figout, bbox_inches=\"tight\")\n",
    "    plt.show()\n",
    "    plt.close(fig)\n",
    "\n",
    "    \n",
    "plot_cells_vs_simday(simtime, numcells, fout+'/cells_vs_simday.pdf')"
   ]
  },
  {
   "cell_type": "code",
   "execution_count": null,
   "metadata": {},
   "outputs": [],
   "source": [
    "def plot_cells_vs_wallhr(xarr, yarr, figout):\n",
    "    import matplotlib.pyplot as plt\n",
    "    # Figure setup\n",
    "    fig = plt.figure(frameon = True)\n",
    "    # 9.6 inch x 200 dpi = 1920\n",
    "    # 5.4 inch x 200 dpi = 1080\n",
    "    fig.set_size_inches(9.6, 5.4) \n",
    "    host = fig.add_subplot(1,1,1)\n",
    "    \n",
    "    xx = [x/3600 for x in xarr]\n",
    "    yy = yarr\n",
    "    host.plot(xx, yy, color='k')\n",
    "    \n",
    "    host.set_xlabel(\"Elapsed time (hours)\")\n",
    "    host.set_ylabel(\"Number of grid cells\")\n",
    "    host.set_xlim(0,2.5)\n",
    "    host.set_ylim(4000,6100)\n",
    "\n",
    "    plt.savefig(figout, bbox_inches=\"tight\")\n",
    "    plt.show()\n",
    "    plt.close(fig)\n",
    "\n",
    "    \n",
    "plot_cells_vs_wallhr(walltime, numcells, fout+'/cells_vs_wallhr.pdf')"
   ]
  },
  {
   "cell_type": "code",
   "execution_count": null,
   "metadata": {},
   "outputs": [],
   "source": [
    "def plot_ranks_vs_simday(xarr, yarr, figout):\n",
    "    import matplotlib.pyplot as plt\n",
    "    # Figure setup\n",
    "    fig = plt.figure(frameon = True)\n",
    "    # 9.6 inch x 200 dpi = 1920\n",
    "    # 5.4 inch x 200 dpi = 1080\n",
    "    fig.set_size_inches(9.6, 5.4) \n",
    "    host = fig.add_subplot(1,1,1)\n",
    "    \n",
    "    xx = [x/3600/24 for x in xarr]\n",
    "    yy = yarr\n",
    "    host.plot(xx, yy, color='k')\n",
    "    \n",
    "    host.set_xlabel(\"Simulation time (days)\")\n",
    "    host.set_ylabel(\"Number of MPI ranks\")\n",
    "    host.set_xlim(0,155)\n",
    "    host.set_ylim(0,17)\n",
    "    \n",
    "    plt.savefig(figout, bbox_inches=\"tight\")\n",
    "    plt.show()\n",
    "    plt.close(fig)\n",
    "\n",
    "    \n",
    "plot_ranks_vs_simday(simtime, numranks, fout+'/ranks_vs_simday.pdf')"
   ]
  },
  {
   "cell_type": "code",
   "execution_count": null,
   "metadata": {},
   "outputs": [],
   "source": [
    "def plot_ranks_vs_wallhr(xarr, yarr, figout):\n",
    "    import matplotlib.pyplot as plt\n",
    "    # Figure setup\n",
    "    fig = plt.figure(frameon = True)\n",
    "    # 9.6 inch x 200 dpi = 1920\n",
    "    # 5.4 inch x 200 dpi = 1080\n",
    "    fig.set_size_inches(9.6, 5.4) \n",
    "    host = fig.add_subplot(1,1,1)\n",
    "    \n",
    "    xx = [x/3600 for x in xarr]\n",
    "    yy = yarr\n",
    "    host.plot(xx, yy, color='k')\n",
    "    \n",
    "    host.set_xlabel(\"Elapsed time (hours)\")\n",
    "    host.set_ylabel(\"Number of MPI ranks\")\n",
    "    host.set_xlim(0,2.5)\n",
    "    host.set_ylim(0,17)\n",
    "    plt.savefig(figout, bbox_inches=\"tight\")\n",
    "    plt.show()\n",
    "    plt.close(fig)\n",
    "\n",
    "    \n",
    "plot_ranks_vs_wallhr(walltime, numranks, fout+'/ranks_vs_wallhr.pdf')"
   ]
  },
  {
   "cell_type": "code",
   "execution_count": 4,
   "metadata": {},
   "outputs": [
    {
     "name": "stdout",
     "output_type": "stream",
     "text": [
      "26.0036277778\n"
     ]
    }
   ],
   "source": [
    "def compute_cpuhours(time_in_sec, num_cpus):\n",
    "    import numpy\n",
    "    return numpy.trapz(num_cpus, time_in_sec) / 3600\n",
    "\n",
    "\n",
    "cpuhrs = compute_cpuhours(walltime, numranks)\n",
    "print(cpuhrs)"
   ]
  },
  {
   "cell_type": "code",
   "execution_count": null,
   "metadata": {
    "collapsed": true
   },
   "outputs": [],
   "source": []
  }
 ],
 "metadata": {
  "kernelspec": {
   "display_name": "Python 3",
   "language": "python",
   "name": "python3"
  },
  "language_info": {
   "codemirror_mode": {
    "name": "ipython",
    "version": 3
   },
   "file_extension": ".py",
   "mimetype": "text/x-python",
   "name": "python",
   "nbconvert_exporter": "python",
   "pygments_lexer": "ipython3",
   "version": "3.5.2"
  }
 },
 "nbformat": 4,
 "nbformat_minor": 2
}
