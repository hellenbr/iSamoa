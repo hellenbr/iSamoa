{
 "cells": [
  {
   "cell_type": "code",
   "execution_count": 3,
   "metadata": {
    "collapsed": true
   },
   "outputs": [],
   "source": [
    "#############################################\n",
    "##  Node-level Resource Untilization Plot\n",
    "##     (for every VTK ouput step)\n",
    "#############################################\n",
    "import numpy as np\n",
    "import linecache\n",
    "#%matplotlib inline # suppress interactive display by default\n",
    "import matplotlib.pyplot as plt\n",
    "import matplotlib.patches as patches\n",
    "import cv2 # OpenCV for image overlay"
   ]
  },
  {
   "cell_type": "code",
   "execution_count": 8,
   "metadata": {
    "collapsed": true
   },
   "outputs": [],
   "source": [
    "###################################\n",
    "##### PROVIDE INPUTS HERE !!! #####\n",
    "###################################\n",
    "\n",
    "# Specify the input file to read\n",
    "#filename = \"darcyl16d16_vm8n2t_2_irm2016rand_com400d.out\"\n",
    "filename = \"darcyl16d16_vm8n2t_3_irm2016step_com400d.out\"\n",
    "\n",
    "# Specify the output figure path & name\n",
    "figname_prefix = './frames_node/nodes.'\n",
    "figname_suffix = '.png'\n",
    "\n",
    "# Specify application number (this determines the color used the application)\n",
    "appid = 0\n",
    "app2 = 1\n",
    "\n",
    "# Setup the Nodes visual grid size: nx-by-ny\n",
    "nx,ny = (4,2)\n",
    "# Specify CPUs per node: cx-by-cy\n",
    "cx,cy = (1,2)\n"
   ]
  },
  {
   "cell_type": "code",
   "execution_count": 9,
   "metadata": {
    "collapsed": true
   },
   "outputs": [],
   "source": [
    "###########################\n",
    "##### Data Processing #####\n",
    "###########################\n",
    "\n",
    "# Function for removing duplicate nodes\n",
    "# Return a list containing only unique nodes\n",
    "def get_unique(node_list):\n",
    "    unique_nodes = []\n",
    "    for n in node_list:\n",
    "        if n not in unique_nodes:\n",
    "            unique_nodes += [n]\n",
    "    return unique_nodes\n",
    "\n",
    "# Get unique node lists for every OUTPUT step from file\n",
    "# The output line looks like:\n",
    "# \"iMPI NODES OUTPUT 21 : 0 0 1 1 2 2\"\n",
    "node_lists = []\n",
    "output_steps = []\n",
    "\n",
    "f = open(filename, 'r')\n",
    "for i, line in enumerate(f,1):\n",
    "    if \"iMPI NODES OUTPUT\" in line:\n",
    "        arr = line.split()\n",
    "        # Output step number is in arr[3]\n",
    "        idx = arr.index(\"OUTPUT\")\n",
    "        output_steps += [int(arr[idx+1])]\n",
    "        # Starting from arr[5], convert them into a integer array\n",
    "        nodes = []\n",
    "        idx = arr.index(\":\")\n",
    "        for i in range(idx+1, len(arr)):\n",
    "            nodes += [int(arr[i])]\n",
    "        # Reduce to unique nodes\n",
    "        unique_nodes = get_unique(nodes)\n",
    "        # append to node lists\n",
    "        node_lists += [unique_nodes]\n",
    "f.close()\n",
    "\n",
    "### For testing only\n",
    "# for i in range(len(node_lists)):\n",
    "#     print(\"Step \", output_steps[i], \": \", node_lists[i])\n"
   ]
  },
  {
   "cell_type": "code",
   "execution_count": 10,
   "metadata": {
    "collapsed": true
   },
   "outputs": [],
   "source": [
    "################################\n",
    "##### Plotting Definitions #####\n",
    "################################\n",
    "\n",
    "# define color code\n",
    "# colorcode = [\n",
    "#         'grey',      # CPU is idle or in transition state\n",
    "#         'lightpink', # CPU is assigned to App1\n",
    "#         'skyblue',   # CPU is assigned to App2\n",
    "#         'khaki',     # CPU is assigned to App3\n",
    "#         'lightgreen' # CPU is assigned to App4\n",
    "# ]\n",
    "colorcode32 = [\n",
    "        '#4747db', # CPU is assigned to node0\n",
    "        '#3737be', # CPU is assigned to node1\n",
    "        '#2727a2', # CPU is assigned to node2\n",
    "        '#171785', # CPU is assigned to node3\n",
    "        '#070768', # CPU is assigned to node4\n",
    "        '#002171', # CPU is assigned to node5\n",
    "        '#005b96', # CPU is assigned to node6\n",
    "        '#0095bb', # CPU is assigned to node7\n",
    "        '#00cfe0', # CPU is assigned to node8\n",
    "        '#00faf6', # CPU is assigned to node9\n",
    "        '#00debc', # CPU is assigned to node10\n",
    "        '#00d183', # CPU is assigned to node11\n",
    "        '#00a54a', # CPU is assigned to node12\n",
    "        '#008911', # CPU is assigned to node13\n",
    "        '#299400', # CPU is assigned to node14\n",
    "        '#63b100', # CPU is assigned to node15\n",
    "        '#9cce00', # CPU is assigned to node16\n",
    "        '#d6eb00', # CPU is assigned to node17\n",
    "        '#fff400', # CPU is assigned to node18\n",
    "        '#ffd100', # CPU is assigned to node19\n",
    "        '#ffad00', # CPU is assigned to node20\n",
    "        '#ff8900', # CPU is assigned to node21\n",
    "        '#ff6600', # CPU is assigned to node22\n",
    "        '#e24e00', # CPU is assigned to node23\n",
    "        '#c13800', # CPU is assigned to node24\n",
    "        '#9f2200', # CPU is assigned to node25\n",
    "        '#7e0c00', # CPU is assigned to node26\n",
    "        '#760808', # CPU is assigned to node27\n",
    "        '#911919', # CPU is assigned to node28\n",
    "        '#ab2a2a', # CPU is assigned to node29\n",
    "        '#c63c3c', # CPU is assigned to node30\n",
    "        '#e04d4d', # CPU is assigned to node31\n",
    "]\n",
    "\n",
    "colorcode8 = [\n",
    "        '#00006c', # CPU is assigned to node0\n",
    "        '#0141a4', # CPU is assigned to node1\n",
    "        '#067ab4', # CPU is assigned to node2\n",
    "        '#17ae74', # CPU is assigned to node3\n",
    "        '#71ca18', # CPU is assigned to node4\n",
    "        '#ccc301', # CPU is assigned to node5\n",
    "        '#fc970e', # CPU is assigned to node6\n",
    "        '#fa3f43', # CPU is assigned to node7\n",
    "]\n",
    "\n",
    "colorcode = colorcode8\n",
    "\n",
    "# Node patch config\n",
    "node_size_x = 10.0\n",
    "node_size_y = 10.0\n",
    "node_patch_size_x = node_size_x * 0.95\n",
    "node_patch_size_y = node_size_y * 0.95\n",
    "node_patch_offset_x = (node_size_x - node_patch_size_x) * 0.5\n",
    "node_patch_offset_y = (node_size_y - node_patch_size_y) * 0.5\n",
    "\n",
    "# CPU patch config\n",
    "cpu_size_x = node_patch_size_x / float(cx)\n",
    "cpu_size_y = node_patch_size_y / float(cy)\n",
    "cpu_patch_size_x = cpu_size_x * 0.9\n",
    "cpu_patch_size_y = cpu_size_y * 0.95\n",
    "cpu_patch_offset_x = (cpu_size_x - cpu_patch_size_x) * 0.5\n",
    "cpu_patch_offset_y = (cpu_size_y - cpu_patch_size_y) * 0.5\n",
    "\n",
    "# Function to get node color\n",
    "def get_node_color(n, node_list):\n",
    "    return colorcode[n] if (n in node_list) else 'grey'\n",
    "\n",
    "# Get the node patch position (x,y)\n",
    "def getxy(node_id):\n",
    "    y = ny - 1 - int(node_id / nx)\n",
    "    x = int(node_id % nx)\n",
    "    return (x * node_size_x + node_patch_offset_x, y * node_size_y + node_patch_offset_y)\n",
    "\n",
    "# Get the cpu patch position\n",
    "def getxy_cpu(node_id, cpu_x, cpu_y):\n",
    "    (x,y) = getxy(node_id)\n",
    "    return (x + cpu_x*cpu_size_x + cpu_patch_offset_x, y + (cy-1-cpu_y)*cpu_size_y + cpu_patch_offset_y)\n",
    "\n"
   ]
  },
  {
   "cell_type": "code",
   "execution_count": 11,
   "metadata": {
    "collapsed": true
   },
   "outputs": [],
   "source": [
    "# Function for drawing 1 frame (CPU-based)\n",
    "def draw_frame(frame_id, node_list):\n",
    "    # Figure setup\n",
    "    fig = plt.figure(frameon = False)\n",
    "    # 9.6 inch x 200 dpi = 1920\n",
    "    # 5.4 inch x 200 dpi = 1080\n",
    "    fig.set_size_inches(9.6, 5.4) \n",
    "    ax = plt.Axes(fig, [0., 0., 1., 1.], )\n",
    "    ax.set_xlim([0,nx*node_size_x])\n",
    "    ax.set_ylim([0,ny*node_size_y])\n",
    "    ax.set_axis_off()\n",
    "    fig.add_axes(ax)\n",
    "    \n",
    "    # Create a list cpu patches (cx*cy patches per node) for drawing\n",
    "    cpus = dict()\n",
    "    for n in range(nx*ny):\n",
    "        cpu_color = get_node_color(n, node_list)\n",
    "        for j in range(cy):\n",
    "            for i in range(cx):\n",
    "                cpu_id = n*(cx*cy) + (j*cx+i)\n",
    "                cpus[cpu_id] = patches.Rectangle(\n",
    "                        getxy_cpu(n, i,j),\n",
    "                        cpu_patch_size_x,\n",
    "                        cpu_patch_size_y,\n",
    "                        facecolor=cpu_color)\n",
    "    # Draw the cpu patches\n",
    "    for c in cpus:\n",
    "        ax.add_artist(cpus[c])\n",
    "        # add a rank number to the center of patch\n",
    "        x,y = cpus[c].get_xy()\n",
    "        center_x = x + cpus[c].get_width()/2.0\n",
    "        center_y = y + cpus[c].get_height()/2.0\n",
    "        ax.annotate(c, (center_x, center_y), color='white', weight='bold', fontsize=12, ha='center', va='center')\n",
    "    # Add legend\n",
    "#     app_tsu = patches.Patch(color=colorcode[appid], label='Tsunami Simulation')\n",
    "#     app_inv = patches.Patch(color=colorcode[app2], label='Inverse Problem')     \n",
    "#     leg = plt.legend(handles=[app_tsu, app_inv])\n",
    "    leg = plt.legend(handles=[patches.Patch(color='grey', label='Unutilized')])\n",
    "    leg.get_frame().set_alpha(0.65)  # set legend opacity\n",
    "        \n",
    "    # Save and close figure\n",
    "    filename = figname_prefix + str(frame_id).zfill(4) + figname_suffix\n",
    "    plt.savefig(filename, dpi=200)\n",
    "    plt.close(fig)\n",
    "    "
   ]
  },
  {
   "cell_type": "code",
   "execution_count": 12,
   "metadata": {},
   "outputs": [
    {
     "name": "stdout",
     "output_type": "stream",
     "text": [
      "[0]\n"
     ]
    }
   ],
   "source": [
    "# Test plotting for 1 frame\n",
    "frame_id = 0\n",
    "l = node_lists[frame_id]\n",
    "print(l)\n",
    "draw_frame(frame_id, l)"
   ]
  },
  {
   "cell_type": "code",
   "execution_count": 13,
   "metadata": {
    "collapsed": true
   },
   "outputs": [],
   "source": [
    "# Draw all frames\n",
    "for i in range(len(node_lists)):\n",
    "    draw_frame(output_steps[i],node_lists[i])"
   ]
  },
  {
   "cell_type": "code",
   "execution_count": null,
   "metadata": {
    "collapsed": true
   },
   "outputs": [],
   "source": [
    "# Make video from png frames (ffmpeg)\n",
    "#------------------------------------\n",
    "# -f: input format\n",
    "# -r: fps (frame rate per second)\n",
    "# -s: resolution in pixel\n",
    "# -i: input files\n",
    "# -vcodec: video format\n",
    "# -crf: quality, number between 15-25 is really good\n",
    "# -pix_fmt: pixel format\n",
    "\n",
    "cmd='ffmpeg -f image2 -r 4 -s 1920x1080 -i res_%03d.png -vcodec libx264 -crf 20 -pix_fmt yuv420p demo.mp4'\n",
    "print(cmd)"
   ]
  },
  {
   "cell_type": "code",
   "execution_count": 4,
   "metadata": {},
   "outputs": [
    {
     "ename": "ValueError",
     "evalue": "could not broadcast input array from shape (1080,1920,3) into shape (942,1802,3)",
     "output_type": "error",
     "traceback": [
      "\u001b[0;31m---------------------------------------------------------------------------\u001b[0m",
      "\u001b[0;31mValueError\u001b[0m                                Traceback (most recent call last)",
      "\u001b[0;32m<ipython-input-4-fe1650af8f40>\u001b[0m in \u001b[0;36m<module>\u001b[0;34m()\u001b[0m\n\u001b[1;32m      4\u001b[0m \u001b[0mx_offset\u001b[0m\u001b[0;34m=\u001b[0m\u001b[0;36m50\u001b[0m\u001b[0;34m\u001b[0m\u001b[0m\n\u001b[1;32m      5\u001b[0m \u001b[0my_offset\u001b[0m\u001b[0;34m=\u001b[0m\u001b[0;36m50\u001b[0m\u001b[0;34m\u001b[0m\u001b[0m\n\u001b[0;32m----> 6\u001b[0;31m \u001b[0mlimg\u001b[0m\u001b[0;34m[\u001b[0m\u001b[0my_offset\u001b[0m\u001b[0;34m:\u001b[0m\u001b[0my_offset\u001b[0m\u001b[0;34m+\u001b[0m\u001b[0msimg\u001b[0m\u001b[0;34m.\u001b[0m\u001b[0mshape\u001b[0m\u001b[0;34m[\u001b[0m\u001b[0;36m0\u001b[0m\u001b[0;34m]\u001b[0m\u001b[0;34m,\u001b[0m \u001b[0mx_offset\u001b[0m\u001b[0;34m:\u001b[0m\u001b[0mx_offset\u001b[0m\u001b[0;34m+\u001b[0m\u001b[0msimg\u001b[0m\u001b[0;34m.\u001b[0m\u001b[0mshape\u001b[0m\u001b[0;34m[\u001b[0m\u001b[0;36m1\u001b[0m\u001b[0;34m]\u001b[0m\u001b[0;34m]\u001b[0m \u001b[0;34m=\u001b[0m \u001b[0msimg\u001b[0m\u001b[0;34m\u001b[0m\u001b[0m\n\u001b[0m",
      "\u001b[0;31mValueError\u001b[0m: could not broadcast input array from shape (1080,1920,3) into shape (942,1802,3)"
     ]
    }
   ],
   "source": [
    "\n",
    "limg = cv2.imread(\"darcyl16.0000.png\")\n",
    "simg = cv2.imread(\"nodes.0000.png\")\n",
    "x_offset=50\n",
    "y_offset=50\n",
    "\n",
    "limg[y_offset:y_offset+simg.shape[0], x_offset:x_offset+simg.shape[1]] = simg"
   ]
  },
  {
   "cell_type": "code",
   "execution_count": 6,
   "metadata": {},
   "outputs": [
    {
     "name": "stdout",
     "output_type": "stream",
     "text": [
      "992\n",
      "1852\n"
     ]
    }
   ],
   "source": [
    "(lh, lw, lchannels) = limg.shape\n",
    "print(lh)\n",
    "print(lw)"
   ]
  },
  {
   "cell_type": "code",
   "execution_count": 7,
   "metadata": {},
   "outputs": [
    {
     "name": "stdout",
     "output_type": "stream",
     "text": [
      "1080\n",
      "1920\n"
     ]
    }
   ],
   "source": [
    "(sh, sw, schannels) = simg.shape\n",
    "print(sh)\n",
    "print(sw)"
   ]
  },
  {
   "cell_type": "code",
   "execution_count": null,
   "metadata": {
    "collapsed": true
   },
   "outputs": [],
   "source": []
  }
 ],
 "metadata": {
  "kernelspec": {
   "display_name": "Python 3",
   "language": "python",
   "name": "python3"
  },
  "language_info": {
   "codemirror_mode": {
    "name": "ipython",
    "version": 3
   },
   "file_extension": ".py",
   "mimetype": "text/x-python",
   "name": "python",
   "nbconvert_exporter": "python",
   "pygments_lexer": "ipython3",
   "version": "3.5.2"
  }
 },
 "nbformat": 4,
 "nbformat_minor": 2
}
