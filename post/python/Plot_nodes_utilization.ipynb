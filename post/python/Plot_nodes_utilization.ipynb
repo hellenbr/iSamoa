{
 "cells": [
  {
   "cell_type": "code",
   "execution_count": 1,
   "metadata": {
    "collapsed": true
   },
   "outputs": [],
   "source": [
    "#############################################\n",
    "##  Node-level Resource Untilization Plot\n",
    "##     (for every VTK ouput step)\n",
    "#############################################\n",
    "import numpy as np\n",
    "import linecache\n",
    "#%matplotlib inline # suppress interactive display by default\n",
    "import matplotlib.pyplot as plt\n",
    "import matplotlib.patches as patches"
   ]
  },
  {
   "cell_type": "code",
   "execution_count": 2,
   "metadata": {
    "collapsed": true
   },
   "outputs": [],
   "source": [
    "###################################\n",
    "##### PROVIDE INPUTS HERE !!! #####\n",
    "###################################\n",
    "\n",
    "# Specify the input file to read\n",
    "filename = \"/media/emily/EMO-64G/yes_swe_irmperi_vm8n2t/console.out\"\n",
    "\n",
    "# Specify the output figure path & name\n",
    "figname_prefix = '/media/data/emily/Desktop/vis_nodes/res_'\n",
    "figname_suffix = '.png'\n",
    "\n",
    "# Specify application number (this determines the color used the application)\n",
    "appid = 0\n",
    "app2 = 1\n",
    "\n",
    "# Setup the Nodes visual grid size: nx-by-ny\n",
    "nx,ny = (8,4)\n",
    "# Specify CPUs per node: cx-by-cy\n",
    "cx,cy = (4,4)\n"
   ]
  },
  {
   "cell_type": "code",
   "execution_count": 3,
   "metadata": {
    "collapsed": true
   },
   "outputs": [],
   "source": [
    "###########################\n",
    "##### Data Processing #####\n",
    "###########################\n",
    "\n",
    "# Function for removing duplicate nodes\n",
    "# Return a list containing only unique nodes\n",
    "def get_unique(node_list):\n",
    "    unique_nodes = []\n",
    "    for n in node_list:\n",
    "        if n not in unique_nodes:\n",
    "            unique_nodes += [n]\n",
    "    return unique_nodes\n",
    "\n",
    "# Get unique node lists for every OUTPUT step from file\n",
    "# The output line looks like:\n",
    "# \"iMPI NODES OUTPUT 21 : 0 0 1 1 2 2\"\n",
    "node_lists = []\n",
    "output_steps = []\n",
    "\n",
    "f = open(filename, 'r')\n",
    "for i, line in enumerate(f,1):\n",
    "    if \"iMPI NODES OUTPUT\" in line:\n",
    "        arr = line.split()\n",
    "        # Output step number is in arr[3]\n",
    "        output_steps += [int(arr[3])]\n",
    "        # Starting from arr[5], convert them into a integer array\n",
    "        nodes = []\n",
    "        for i in range(5, len(arr)):\n",
    "            nodes += [int(arr[i])]\n",
    "        # Reduce to unique nodes\n",
    "        unique_nodes = get_unique(nodes)\n",
    "        # append to node lists\n",
    "        node_lists += [unique_nodes]\n",
    "f.close()\n",
    "\n",
    "### For testing only\n",
    "# for i in range(len(node_lists)):\n",
    "#     print(\"Step \", output_steps[i], \": \", node_lists[i])\n"
   ]
  },
  {
   "cell_type": "code",
   "execution_count": 4,
   "metadata": {
    "collapsed": true
   },
   "outputs": [],
   "source": [
    "################################\n",
    "##### Plotting Definitions #####\n",
    "################################\n",
    "\n",
    "# define color code\n",
    "# colorcode = [\n",
    "#         'grey',      # CPU is idle or in transition state\n",
    "#         'lightpink', # CPU is assigned to App1\n",
    "#         'skyblue',   # CPU is assigned to App2\n",
    "#         'khaki',     # CPU is assigned to App3\n",
    "#         'lightgreen' # CPU is assigned to App4\n",
    "# ]\n",
    "colorcode = [\n",
    "        'skyblue',   # CPU is assigned to App1\n",
    "        'lightpink', # CPU is assigned to App2\n",
    "]\n",
    "\n",
    "# Node patch config\n",
    "node_size_x = 10.0\n",
    "node_size_y = 10.0\n",
    "node_patch_size_x = node_size_x * 0.96\n",
    "node_patch_size_y = node_size_y * 0.96\n",
    "node_patch_offset_x = (node_size_x - node_patch_size_x) * 0.5\n",
    "node_patch_offset_y = (node_size_y - node_patch_size_y) * 0.5\n",
    "\n",
    "# CPU patch config\n",
    "cpu_size_x = node_patch_size_x / float(cx)\n",
    "cpu_size_y = node_patch_size_y / float(cy)\n",
    "cpu_patch_size_x = cpu_size_x * 0.9\n",
    "cpu_patch_size_y = cpu_size_y * 0.9\n",
    "cpu_patch_offset_x = (cpu_size_x - cpu_patch_size_x) * 0.5\n",
    "cpu_patch_offset_y = (cpu_size_y - cpu_patch_size_y) * 0.5\n",
    "\n",
    "# Function to get node color\n",
    "def get_node_color(n, node_list):\n",
    "    return colorcode[appid] if (n in node_list) else colorcode[app2]\n",
    "\n",
    "# Get the node patch position (x,y)\n",
    "def getxy(node_id):\n",
    "    y = ny - 1 - int(node_id / nx)\n",
    "    x = int(node_id % nx)\n",
    "    return (x * node_size_x + node_patch_offset_x, \\\n",
    "            y * node_size_y + node_patch_offset_y)\n",
    "\n",
    "# Get the cpu patch position\n",
    "def getxy_cpu(node_id, cpu_x, cpu_y):\n",
    "    (x,y) = getxy(node_id)\n",
    "    return (x + cpu_x*cpu_size_x + cpu_patch_offset_x, \\\n",
    "            y + (cy-1-cpu_y)*cpu_size_y + cpu_patch_offset_y)"
   ]
  },
  {
   "cell_type": "code",
   "execution_count": 5,
   "metadata": {
    "collapsed": true
   },
   "outputs": [],
   "source": [
    "# Function for drawing 1 frame (CPU-based)\n",
    "def draw_frame(frame_id, node_list):\n",
    "    # Figure setup\n",
    "    fig = plt.figure(frameon = False)\n",
    "    # 9.6 inch x 200 dpi = 1920\n",
    "    # 5.4 inch x 200 dpi = 1080\n",
    "    fig.set_size_inches(9.6, 5.4) \n",
    "    ax = plt.Axes(fig, [0., 0., 1., 1.], )\n",
    "    ax.set_xlim([0,nx*node_size_x])\n",
    "    ax.set_ylim([0,ny*node_size_y])\n",
    "    ax.set_axis_off()\n",
    "    fig.add_axes(ax)\n",
    "    \n",
    "    # Create a list cpu patches (cx*cy patches per node) for drawing\n",
    "    cpus = dict()\n",
    "    for n in range(nx*ny):\n",
    "        cpu_color = get_node_color(n, node_list)\n",
    "        for j in range(cy):\n",
    "            for i in range(cx):\n",
    "                cpu_id = n*(cx*cy) + (j*cx+i)\n",
    "                cpus[cpu_id] = patches.Rectangle(\n",
    "                        getxy_cpu(n, i,j),\n",
    "                        cpu_patch_size_x,\n",
    "                        cpu_patch_size_y,\n",
    "                        facecolor=cpu_color)\n",
    "    # Draw the cpu patches\n",
    "    for c in cpus:\n",
    "        ax.add_artist(cpus[c])\n",
    "        # add a rank number to the center of patch\n",
    "        x,y = cpus[c].get_xy()\n",
    "        center_x = x + cpus[c].get_width()/2.0\n",
    "        center_y = y + cpus[c].get_height()/2.0\n",
    "        ax.annotate(c, (center_x, center_y), \\\n",
    "                    color='black', weight='normal', fontsize=6, ha='center', va='center')\n",
    "    # Add legend\n",
    "    app_tsu = patches.Patch(color=colorcode[appid], label='Tsunami Simulation')\n",
    "    app_inv = patches.Patch(color=colorcode[app2], label='Inverse Problem')   \n",
    "    leg = plt.legend(handles=[app_tsu, app_inv])\n",
    "    leg.get_frame().set_alpha(0.65)  # set legend opacity\n",
    "        \n",
    "    # Save and close figure\n",
    "    filename = figname_prefix + str(frame_id).zfill(3) + figname_suffix\n",
    "    plt.savefig(filename, dpi=200)\n",
    "    plt.close(fig)\n",
    "    "
   ]
  },
  {
   "cell_type": "code",
   "execution_count": 6,
   "metadata": {},
   "outputs": [
    {
     "name": "stdout",
     "output_type": "stream",
     "text": [
      "[0]\n"
     ]
    }
   ],
   "source": [
    "# Test plotting for 1 frame\n",
    "frame_id = 0\n",
    "l = node_lists[frame_id]\n",
    "print(l)\n",
    "draw_frame(frame_id, l)"
   ]
  },
  {
   "cell_type": "code",
   "execution_count": 7,
   "metadata": {
    "collapsed": true
   },
   "outputs": [],
   "source": [
    "# Draw all frames\n",
    "for i in range(len(node_lists)):\n",
    "    draw_frame(output_steps[i],node_lists[i])"
   ]
  },
  {
   "cell_type": "code",
   "execution_count": 9,
   "metadata": {},
   "outputs": [
    {
     "name": "stdout",
     "output_type": "stream",
     "text": [
      "ffmpeg -f image2 -r 4 -s 1920x1080 -i res_%03d.png -vcodec libx264 -crf 20 -pix_fmt yuv420p demo.mp4\n"
     ]
    }
   ],
   "source": [
    "# Make video from png frames (ffmpeg)\n",
    "#------------------------------------\n",
    "# -f: input format\n",
    "# -r: fps (frame rate per second)\n",
    "# -s: resolution in pixel\n",
    "# -i: input files\n",
    "# -vcodec: video format\n",
    "# -crf: quality, number between 15-25 is really good\n",
    "# -pix_fmt: pixel format\n",
    "\n",
    "cmd='ffmpeg -f image2 -r 4 -s 1920x1080 -i res_%03d.png -vcodec libx264 -crf 20 -pix_fmt yuv420p demo.mp4'\n",
    "print(cmd)"
   ]
  },
  {
   "cell_type": "code",
   "execution_count": null,
   "metadata": {
    "collapsed": true
   },
   "outputs": [],
   "source": []
  }
 ],
 "metadata": {
  "kernelspec": {
   "display_name": "Python 3",
   "language": "python",
   "name": "python3"
  },
  "language_info": {
   "codemirror_mode": {
    "name": "ipython",
    "version": 3
   },
   "file_extension": ".py",
   "mimetype": "text/x-python",
   "name": "python",
   "nbconvert_exporter": "python",
   "pygments_lexer": "ipython3",
   "version": "3.6.3"
  }
 },
 "nbformat": 4,
 "nbformat_minor": 2
}
