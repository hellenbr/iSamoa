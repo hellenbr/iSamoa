{
 "cells": [
  {
   "cell_type": "code",
   "execution_count": 1,
   "metadata": {
    "collapsed": true
   },
   "outputs": [],
   "source": [
    "#########################################\n",
    "##  Plot workload (# of cells) Profile\n",
    "#########################################\n",
    "import numpy as np\n",
    "import linecache\n",
    "%matplotlib inline\n",
    "import matplotlib.pyplot as plt"
   ]
  },
  {
   "cell_type": "code",
   "execution_count": 2,
   "metadata": {
    "collapsed": true
   },
   "outputs": [],
   "source": [
    "###################################\n",
    "##### PROVIDE INPUTS HERE !!! #####\n",
    "###################################\n",
    "\n",
    "# Specify the input file to read\n",
    "readfilename = \"/media/emily/EMO-64G/yes_vm8n2r_irmperi_tohoku_3hr/console.out\"\n",
    "\n",
    "# Specify the output figure path & name\n",
    "figname_prefix = '/media/emily/EMO-64G/yes_vm8n2r_irmperi_tohoku_3hr/'\n",
    "figname_suffix = '.pdf'\n"
   ]
  },
  {
   "cell_type": "code",
   "execution_count": 3,
   "metadata": {},
   "outputs": [],
   "source": [
    "###########################\n",
    "##### Data Processing #####\n",
    "###########################\n",
    "\n",
    "# There are 3 phases: \"initialization\", \"earthquake displacement data\", \"tsunami simulation\"\n",
    "# Create 3 sets of lists\n",
    "\n",
    "# sim time not available in init phase\n",
    "init_wall_time = []\n",
    "init_cells_per_rank = []\n",
    "init_ranks = []\n",
    "\n",
    "eqk_wall_time = []\n",
    "eqk_time_step = []\n",
    "eqk_cells_per_rank = []\n",
    "eqk_ranks = []\n",
    "\n",
    "tsu_wall_time = []\n",
    "tsu_time_step = []\n",
    "tsu_cells_per_rank = []\n",
    "tsu_ranks = []\n",
    "\n",
    "f = open(readfilename, 'r')\n",
    "for i, line in enumerate(f,1):\n",
    "    if \"SWE Init: adaption\" in line:\n",
    "        arr = line.split()\n",
    "        init_wall_time += [float(arr[8])]\n",
    "        init_cells_per_rank += [int(arr[11])]\n",
    "        init_ranks += [int(arr[14])]\n",
    "        \n",
    "    elif \"SWE Earthquake: dt\" in line:\n",
    "        arr = line.split()    \n",
    "        eqk_wall_time += [float(arr[12])]\n",
    "        eqk_time_step += [int(arr[16])]\n",
    "        eqk_cells_per_rank += [int(arr[19])]\n",
    "        eqk_ranks += [int(arr[22])]\n",
    "    \n",
    "    elif \"SWE Tsunami: dt\" in line:\n",
    "        arr = line.split()    \n",
    "        tsu_wall_time += [float(arr[14])]\n",
    "        tsu_time_step += [int(arr[18])]\n",
    "        tsu_cells_per_rank += [int(arr[21])]\n",
    "        tsu_ranks += [int(arr[24])]\n",
    "f.close()\n"
   ]
  },
  {
   "cell_type": "code",
   "execution_count": 9,
   "metadata": {},
   "outputs": [
    {
     "data": {
      "image/png": "[encoded data removed]",
      "text/plain": [
       "<matplotlib.figure.Figure at 0x7fceecf1c978>"
      ]
     },
     "metadata": {},
     "output_type": "display_data"
    }
   ],
   "source": [
    "############################\n",
    "## Plot Workload Profile:\n",
    "##   Cells vs. Exec.Time\n",
    "############################\n",
    "tsu_cells = np.array(tsu_cells_per_rank) * np.array(tsu_ranks)\n",
    "time_in_min = np.array(tsu_wall_time) / 60\n",
    "\n",
    "fig = plt.figure()\n",
    "ax = fig.gca()\n",
    "ax.plot(time_in_min, tsu_cells, 'b-')\n",
    "ax.set_xlabel(\"Execution time in minutes\")\n",
    "ax.set_ylabel(\"Number of grid cells\", color='b')\n",
    "\n",
    "ax.grid(b=True, color='grey', linestyle='-', linewidth=0.5)\n",
    "\n",
    "ax2 = ax.twinx()\n",
    "ax2.plot(time_in_min, tsu_ranks, 'r-')\n",
    "ax2.set_ylabel('y2', color='r')\n",
    "# for tl in ax2.get_yticklabels():\n",
    "#     tl.set_color('r')\n",
    "\n",
    "\n",
    "\n",
    "\n",
    "fig = plt.figure()\n",
    "host = fig.add_subplot(111)\n",
    "par1 = host.twinx()\n",
    "par2 = host.twinx()\n",
    "\n",
    "colorhost = 'b'\n",
    "colorpar1 = 'r'\n",
    "colorpar2 = 'g'\n",
    "\n",
    "host.set_xlabel(\"Execution time in minutes\")\n",
    "host.set_ylabel(\"Number of MPI ranks\", color=colorhost)\n",
    "par1.set_ylabel(\"Number of grid cells (total)\", color=colorpar1)\n",
    "par2.set_ylabel(\"Number of grid cells per rank\", color=colorpar2)\n",
    "\n",
    "p1, = host.plot(time_in_min, tsu_ranks, color=colorhost,label=\"MPI ranks\")\n",
    "p2, = par1.plot(time_in_min, tsu_cells, color=colorpar1, label=\"# of total grid cells\")\n",
    "p3, = par2.plot(time_in_min, tsu_cells_per_rank, color=colorpar2, label=\"# of grid cells per MPI rank\")\n",
    "\n",
    "lns = [p1, p2, p3]\n",
    "host.legend(handles=lns, loc='best')\n",
    "\n",
    "# right, left, top, bottom\n",
    "par2.spines['right'].set_position(('outward', 60))      \n",
    "# no x-ticks                 \n",
    "par2.xaxis.set_ticks([])\n",
    "# Sometimes handy, same for xaxis\n",
    "#par2.yaxis.set_ticks_position('right')\n",
    "\n",
    "host.yaxis.label.set_color(p1.get_color())\n",
    "par1.yaxis.label.set_color(p2.get_color())\n",
    "par2.yaxis.label.set_color(p3.get_color())\n",
    "\n",
    "plt.savefig(\"pyplot_multiple_y-axis.png\", bbox_inches='tight')\n",
    "\n",
    "\n",
    "\n",
    "\n",
    "\n",
    "\n",
    "\n",
    "\n",
    "\n",
    "\n",
    "\n",
    "\n",
    "fig.savefig(figname_prefix + \"fig_workload_profile\" + figname_suffix, bbox_inches=\"tight\")"
   ]
  },
  {
   "cell_type": "code",
   "execution_count": 12,
   "metadata": {},
   "outputs": [],
   "source": [
    "plt.close(fig)"
   ]
  },
  {
   "cell_type": "code",
   "execution_count": null,
   "metadata": {
    "collapsed": true
   },
   "outputs": [],
   "source": []
  }
 ],
 "metadata": {
  "kernelspec": {
   "display_name": "Python 3",
   "language": "python",
   "name": "python3"
  },
  "language_info": {
   "codemirror_mode": {
    "name": "ipython",
    "version": 3
   },
   "file_extension": ".py",
   "mimetype": "text/x-python",
   "name": "python",
   "nbconvert_exporter": "python",
   "pygments_lexer": "ipython3",
   "version": "3.5.2"
  }
 },
 "nbformat": 4,
 "nbformat_minor": 2
}
