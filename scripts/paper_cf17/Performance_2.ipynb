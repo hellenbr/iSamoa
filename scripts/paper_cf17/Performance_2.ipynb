{
 "cells": [
  {
   "cell_type": "code",
   "execution_count": 1,
   "metadata": {
    "collapsed": true
   },
   "outputs": [],
   "source": [
    "%matplotlib inline\n",
    "import matplotlib\n",
    "import numpy as np\n",
    "import matplotlib.pyplot as plt\n",
    "import linecache"
   ]
  },
  {
   "cell_type": "code",
   "execution_count": 2,
   "metadata": {
    "collapsed": false
   },
   "outputs": [
    {
     "name": "stdout",
     "output_type": "stream",
     "text": [
      "/home/emily/Desktop/isamoa_data/good5_sb32n16t_d26min66_mpi_1458983/1458983.log\n",
      "/home/emily/Desktop/isamoa_data/good3_sb32n16t_d26min66_irmfit_1458883/1458883.log\n"
     ]
    }
   ],
   "source": [
    "# set data path\n",
    "basepath = \"/home/emily/Desktop/isamoa_data/\"\n",
    "mpipath = basepath + \"good5_sb32n16t_d26min66_mpi_1458983\"\n",
    "fitpath = basepath + \"good3_sb32n16t_d26min66_irmfit_1458883\"\n",
    "\n",
    "jobid = mpipath[-7:]\n",
    "mpi_filename = mpipath + '/' + jobid + '.log'\n",
    "print(mpi_filename)\n",
    "\n",
    "jobid = fitpath[-7:]\n",
    "fit_filename = fitpath + '/' + jobid + '.log'\n",
    "print(fit_filename)\n",
    "\n",
    "files = [mpi_filename, fit_filename]\n",
    "labels = ['Static MPI','Elastic MPI']\n",
    "labels2 = ['Static MPI 512 ranks: # cells','Elastic MPI: # cells']\n",
    "colors = ['red','blue']\n",
    "colors2 = ['magenta','seagreen']"
   ]
  },
  {
   "cell_type": "markdown",
   "metadata": {},
   "source": [
    "# Process Data from 2 files"
   ]
  },
  {
   "cell_type": "code",
   "execution_count": 3,
   "metadata": {
    "collapsed": false
   },
   "outputs": [],
   "source": [
    "all_nranks = []\n",
    "all_ncells = []\n",
    "all_nelaps = []\n",
    "all_mcells = []\n",
    "all_msteps = []\n",
    "\n",
    "all_tsu_ranks = []\n",
    "all_tsu_ts_et = []\n",
    "all_tsu_lb_et = []\n",
    "all_tsu_adp_et = []\n",
    "\n",
    "for file in files:\n",
    "\n",
    "    nranks = []\n",
    "    ncells = []\n",
    "    nelaps = []\n",
    "    mcells = []\n",
    "    msteps = []\n",
    "\n",
    "    markers = []\n",
    "    tsu_ranks = []\n",
    "    tsu_ts_et = []\n",
    "    tsu_lb_et = []\n",
    "    tsu_adp_et = []\n",
    "    \n",
    "    #################\n",
    "    # MPI Ranks\n",
    "    #################\n",
    "    f = open(file, 'r')\n",
    "    for i, line in enumerate(f,1):\n",
    "\n",
    "        # find all \"phase statistics\" line numbers\n",
    "        if \"Phase statistics:\" in line:\n",
    "            markers = markers + [i]\n",
    "\n",
    "        # Get nranks & ncells vs. time\n",
    "        if \">>>\" in line:\n",
    "            larr = line.split()\n",
    "            try:\n",
    "                ranks = int(larr[-1])\n",
    "                cells = int(larr[-3][:-1])\n",
    "                elaps = float(larr[-5][:-1])\n",
    "            except:\n",
    "                pass\n",
    "            else: \n",
    "                nranks = nranks + [ranks]\n",
    "                nelaps = nelaps + [elaps]\n",
    "                ncells = ncells + [cells * ranks]   \n",
    "\n",
    "            # Get mcells vs. time steps\n",
    "            if \"time step:\" in line:\n",
    "                idx = larr.index('step:')\n",
    "                msteps = msteps + [int(larr[idx+1][:-1])]\n",
    "                idx = larr.index('cells:')\n",
    "                mcells = mcells + [cells * ranks]      \n",
    "    f.close()\n",
    "    all_nranks = all_nranks + [nranks]\n",
    "    all_ncells = all_ncells + [ncells]\n",
    "    all_nelaps = all_nelaps + [nelaps]\n",
    "    all_mcells = all_mcells + [mcells]\n",
    "    all_msteps = all_msteps + [msteps]\n",
    "\n",
    "    #################\n",
    "    # Throughput\n",
    "    #################\n",
    "\n",
    "    for marker in markers:\n",
    "        \n",
    "        # ranks\n",
    "        line = linecache.getline(file, marker+2)\n",
    "        larr = line.split()\n",
    "        tsu_ranks = tsu_ranks + [int(larr[-1])]\n",
    "        \n",
    "        # Tsunami Time step throughput\n",
    "        line = linecache.getline(file, marker+5)\n",
    "        larr = line.split()\n",
    "        idx = larr.index(\"ET:\")\n",
    "        tsu_ts_et = tsu_ts_et + [1/float(larr[idx+1])]\n",
    "        \n",
    "        # Tsuanmi Load Balancing throughput\n",
    "        line = linecache.getline(file, marker+6)\n",
    "        larr = line.split()\n",
    "        idx = larr.index(\"time:\")\n",
    "        adap_time = float(larr[idx+1])\n",
    "        idx = larr.index(\"ET:\")\n",
    "        adap_et = float(larr[idx+1])\n",
    "        idx = larr.index(\"balancing:\")\n",
    "        lb_time = float(larr[idx+1])\n",
    "        tsu_lb_et = tsu_lb_et + [lb_time / (adap_time*adap_et)]\n",
    "        \n",
    "        # Tsuanmi Load Balancing throughput\n",
    "        idx = larr.index(\"neighbors:\")\n",
    "        updnb_time = float(larr[idx+1])\n",
    "        tsu_adp_et = tsu_adp_et + [(adap_time - updnb_time) / (adap_time*adap_et)]\n",
    "        \n",
    "    all_tsu_ranks = all_tsu_ranks + [tsu_ranks]\n",
    "    all_tsu_ts_et = all_tsu_ts_et + [tsu_ts_et]\n",
    "    all_tsu_lb_et = all_tsu_lb_et + [tsu_lb_et]\n",
    "    all_tsu_adp_et = all_tsu_adp_et + [tsu_adp_et]\n"
   ]
  },
  {
   "cell_type": "markdown",
   "metadata": {},
   "source": [
    "# # Cells vs. Time step"
   ]
  },
  {
   "cell_type": "code",
   "execution_count": 4,
   "metadata": {
    "collapsed": false
   },
   "outputs": [
    {
     "data": {
      "image/png": "[encoded data removed]",
      "text/plain": [
       "<matplotlib.figure.Figure at 0x7f39a6850e10>"
      ]
     },
     "metadata": {},
     "output_type": "display_data"
    }
   ],
   "source": [
    "fig = plt.figure()\n",
    "ax = fig.gca()\n",
    "\n",
    "mcells = np.divide(np.array(all_mcells[0]), 1000000).tolist()\n",
    "msteps = all_msteps[0]\n",
    "\n",
    "ax.plot(msteps, mcells, color='black')\n",
    "ax.set_xlabel(\"Simulation time step\")\n",
    "ax.set_ylabel(\"Number of grid cells\")\n",
    "ax.text(-10, 1.41, r'$\\times 10^{6}$', fontsize=14)\n",
    "    \n",
    "fig.savefig(basepath+\"/cells_vs_steps.pdf\",bbox_inches=\"tight\")"
   ]
  },
  {
   "cell_type": "markdown",
   "metadata": {},
   "source": [
    "# CPU-Hour Comparison"
   ]
  },
  {
   "cell_type": "code",
   "execution_count": 5,
   "metadata": {
    "collapsed": false
   },
   "outputs": [
    {
     "data": {
      "image/png": "[encoded data removed]",
      "text/plain": [
       "<matplotlib.figure.Figure at 0x7f39a3da43c8>"
      ]
     },
     "metadata": {},
     "output_type": "display_data"
    }
   ],
   "source": [
    "fig = plt.figure()\n",
    "ax = fig.gca()\n",
    "#ax2 = ax.twinx()\n",
    "\n",
    "areas = [None] * len(files)\n",
    "cpuhr = [None] * len(files)\n",
    "\n",
    "for i in range(0, len(files)):\n",
    "    nelaps = all_nelaps[i]\n",
    "    nranks = all_nranks[i]\n",
    "    ncells = all_ncells[i]\n",
    "    # Plot Ranks\n",
    "    ax.plot(nelaps, nranks, color=colors[i], label=labels[i])\n",
    "    ax.plot((nelaps[-1], nelaps[-1]), (0, nranks[-1]), color=colors[i], linestyle='--')\n",
    "    areas[i] = np.trapz(nranks, x=nelaps)\n",
    "    cpuhr[i] = areas[i]/3600\n",
    "    # Plot Cells\n",
    "#    ax2.plot(nelaps, ncells, color=colors2[i], label=labels2[i])\n",
    "\n",
    "# Ranks\n",
    "ax.set_xlabel(\"Execution time (sec)\")\n",
    "ax.set_ylabel(\"Number of MPI ranks\")\n",
    "ax.set_xlim(0,350)\n",
    "lgd = ax.legend()\n",
    "#lgd2 = ax2.legend(loc=\"lower center\", bbox_to_anchor=(0.5, 1))\n",
    "\n",
    "ax.text(25, 420, r'Integral area = %d' % areas[0], color=colors[0], fontsize=12)\n",
    "ax.text(25, 380, r'CPU-Hour = %.2f' % cpuhr[0], color=colors[0], fontsize=12)\n",
    "ax.text(150, 140, r'Integral area = %d' % areas[1], color=colors[1], fontsize=12)\n",
    "ax.text(150, 100, r'CPU-Hour = %.2f' % cpuhr[1], color=colors[1], fontsize=12)\n",
    "\n",
    "# Cells\n",
    "#ax2.set_ylim(0, 1600000)\n",
    "\n",
    "fig.savefig(basepath + \"/cpu-hr_comparison.pdf\", bbox_extra_artists=(lgd,), bbox_inches='tight')"
   ]
  },
  {
   "cell_type": "markdown",
   "metadata": {
    "collapsed": true
   },
   "source": [
    "# Throughput Comparison (1)"
   ]
  },
  {
   "cell_type": "code",
   "execution_count": 8,
   "metadata": {
    "collapsed": false
   },
   "outputs": [
    {
     "data": {
      "image/png": "[encoded data removed]",
      "text/plain": [
       "<matplotlib.figure.Figure at 0x7f39a3bbe518>"
      ]
     },
     "metadata": {},
     "output_type": "display_data"
    }
   ],
   "source": [
    "#######################################################\n",
    "# Tsunami phase only, remove the first 2 phase stats\n",
    "#######################################################\n",
    "\n",
    "# The first data is from MPI\n",
    "tsu_ranks = all_tsu_ranks[0][2:]\n",
    "tsu_ts_et = all_tsu_ts_et[0][2:]\n",
    "tsu_lb_et = all_tsu_lb_et[0][2:]\n",
    "tsu_adp_et = all_tsu_adp_et[0][2:]\n",
    "        \n",
    "# The rest are from iMPI Fit\n",
    "tsu_ranks = tsu_ranks + all_tsu_ranks[1][2:]\n",
    "tsu_ts_et = tsu_ts_et + all_tsu_ts_et[1][2:]\n",
    "tsu_lb_et = tsu_lb_et + all_tsu_lb_et[1][2:]\n",
    "tsu_adp_et = tsu_adp_et + all_tsu_adp_et[1][2:]\n",
    "\n",
    "# xtick labels\n",
    "x_labels = []\n",
    "str = 'Static MPI\\n%d ranks' % tsu_ranks[0]\n",
    "x_labels = x_labels + [str]\n",
    "for i in range(1,len(tsu_ranks)):\n",
    "    str = 'Elastic MPI\\n%d ranks' % tsu_ranks[i]\n",
    "    x_labels = x_labels + [str]\n",
    "\n",
    "# xtick locations\n",
    "loc = np.arange(len(tsu_ts_et))\n",
    "for i in loc[1:]:\n",
    "    loc[i] = loc[i] + 1\n",
    "\n",
    "# bar width\n",
    "width = 0.25\n",
    "\n",
    "# plot 3 data series\n",
    "fig = plt.figure()\n",
    "ax = fig.gca()\n",
    "ax.bar(loc, tsu_ts_et, width, color='lightskyblue', label='Tsunami time step computation')\n",
    "ax.bar(loc+width, tsu_lb_et, width, color='lightpink', label='Tsunami load balancing')\n",
    "ax.bar(loc+width*2, tsu_adp_et, width, color='yellowgreen', label='Tsunami grid refinement')\n",
    "\n",
    "# setting\n",
    "ax.legend()\n",
    "ax.set_xticks(loc + width*1.5, )\n",
    "ax.set_xticklabels(x_labels, rotation=50)\n",
    "ax.set_xlim(-0.5,7.2)\n",
    "ax.set_ylabel('# of Sec. per million cells per rank')\n",
    "\n",
    "# Save figure\n",
    "fig.savefig(basepath + \"/thruput_comparison.pdf\", bbox_inches='tight')"
   ]
  },
  {
   "cell_type": "markdown",
   "metadata": {
    "collapsed": true
   },
   "source": [
    "# Throughput Comparison (2)"
   ]
  },
  {
   "cell_type": "code",
   "execution_count": 7,
   "metadata": {
    "collapsed": false
   },
   "outputs": [
    {
     "data": {
      "text/plain": [
       "<Container object of 10 artists>"
      ]
     },
     "execution_count": 7,
     "metadata": {},
     "output_type": "execute_result"
    },
    {
     "data": {
      "image/png": "[encoded data removed]",
      "text/plain": [
       "<matplotlib.figure.Figure at 0x7f39a3c381d0>"
      ]
     },
     "metadata": {},
     "output_type": "display_data"
    }
   ],
   "source": [
    "# The first 3 data is from MPI\n",
    "tsu_ranks = all_tsu_ranks[0]\n",
    "tsu_ts_et = all_tsu_ts_et[0]\n",
    "tsu_lb_et = all_tsu_lb_et[0]\n",
    "tsu_adp_et = all_tsu_adp_et[0]\n",
    "        \n",
    "# The rest are from iMPI Fit\n",
    "tsu_ranks = tsu_ranks + all_tsu_ranks[1]\n",
    "tsu_ts_et = tsu_ts_et + all_tsu_ts_et[1]\n",
    "tsu_lb_et = tsu_lb_et + all_tsu_lb_et[1]\n",
    "tsu_adp_et = tsu_adp_et + all_tsu_adp_et[1]\n",
    "\n",
    "# Set bar locations\n",
    "loc = np.arange(len(tsu_ranks))\n",
    "for i in range(3, len(loc)):\n",
    "    loc[i] = loc[i] + 2\n",
    "for i in range(5, len(loc)):\n",
    "    loc[i] = loc[i] + 1\n",
    "\n",
    "# xtick labels\n",
    "xlabels = []\n",
    "str = 'Static %d ranks\\nInitialization' % tsu_ranks[0]\n",
    "xlabels = xlabels + [str]\n",
    "str = 'Static %d ranks\\nEarthquake' % tsu_ranks[0]\n",
    "xlabels = xlabels + [str]\n",
    "str = 'Static %d ranks\\nTsunami' % tsu_ranks[0]\n",
    "xlabels = xlabels + [str]\n",
    "\n",
    "for i in range(3,len(tsu_ranks)):\n",
    "    if (i == 3):\n",
    "        str = 'Elastic %d ranks\\nInitialization' % tsu_ranks[i]\n",
    "        xlabels = xlabels + [str]    \n",
    "    elif (i == 4):\n",
    "        str = 'Elastic %d ranks\\nEarthquake' % tsu_ranks[i]\n",
    "        xlabels = xlabels + [str]            \n",
    "    else:\n",
    "        str = 'Elastic %d ranks\\nTsunami' % tsu_ranks[i]\n",
    "        xlabels = xlabels + [str]    \n",
    "\n",
    "# bar width\n",
    "width = 0.8\n",
    "\n",
    "# plot\n",
    "fig, axs = plt.subplots(3, sharex=True)\n",
    "axs[0].bar(loc, tsu_ts_et, width, color='lightskyblue')\n",
    "axs[1].bar(loc, tsu_lb_et, width, color='lightpink')\n",
    "axs[2].bar(loc, tsu_adp_et, width, color='yellowgreen')\n",
    "\n",
    "\n",
    "# f, axarr = plt.subplots(2, sharex=True)\n",
    "# axarr[0].plot(x, y)\n",
    "# axarr[0].set_title('Sharing X axis')\n",
    "# axarr[1].scatter(x, y)"
   ]
  },
  {
   "cell_type": "code",
   "execution_count": null,
   "metadata": {
    "collapsed": true
   },
   "outputs": [],
   "source": []
  }
 ],
 "metadata": {
  "kernelspec": {
   "display_name": "Python 3",
   "language": "python",
   "name": "python3"
  },
  "language_info": {
   "codemirror_mode": {
    "name": "ipython",
    "version": 3
   },
   "file_extension": ".py",
   "mimetype": "text/x-python",
   "name": "python",
   "nbconvert_exporter": "python",
   "pygments_lexer": "ipython3",
   "version": "3.5.2"
  }
 },
 "nbformat": 4,
 "nbformat_minor": 1
}
