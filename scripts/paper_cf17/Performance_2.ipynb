{
 "cells": [
  {
   "cell_type": "code",
   "execution_count": 9,
   "metadata": {
    "collapsed": true
   },
   "outputs": [],
   "source": [
    "%matplotlib inline\n",
    "import matplotlib\n",
    "import numpy as np\n",
    "import matplotlib.pyplot as plt\n",
    "import linecache"
   ]
  },
  {
   "cell_type": "code",
   "execution_count": 27,
   "metadata": {
    "collapsed": false
   },
   "outputs": [
    {
     "name": "stdout",
     "output_type": "stream",
     "text": [
      "/home/emily/Desktop/isamoa_data/good5_sb32n16t_d26min66_mpi_1458983/1458983.log\n",
      "/home/emily/Desktop/isamoa_data/good3_sb32n16t_d26min66_irmfit_1458883/1458883.log\n"
     ]
    }
   ],
   "source": [
    "# set data path\n",
    "basepath = \"/home/emily/Desktop/isamoa_data/\"\n",
    "mpipath = basepath + \"good5_sb32n16t_d26min66_mpi_1458983\"\n",
    "fitpath = basepath + \"good3_sb32n16t_d26min66_irmfit_1458883\"\n",
    "\n",
    "jobid = mpipath[-7:]\n",
    "mpi_filename = mpipath + '/' + jobid + '.log'\n",
    "print(mpi_filename)\n",
    "\n",
    "jobid = fitpath[-7:]\n",
    "fit_filename = fitpath + '/' + jobid + '.log'\n",
    "print(fit_filename)\n",
    "\n",
    "files = [mpi_filename, fit_filename]\n",
    "labels = ['Static MPI w. 512 ranks','Elastic MPI w. increasing ranks']\n",
    "colors = ['red','blue']"
   ]
  },
  {
   "cell_type": "markdown",
   "metadata": {},
   "source": [
    "# Process Data from 2 files"
   ]
  },
  {
   "cell_type": "code",
   "execution_count": 11,
   "metadata": {
    "collapsed": false
   },
   "outputs": [
    {
     "name": "stdout",
     "output_type": "stream",
     "text": [
      "[[74, 93, 9169], [76, 95, 161, 3302, 5435, 8008, 9361]]\n",
      "[74, 93, 9169]\n"
     ]
    }
   ],
   "source": [
    "all_markers = []\n",
    "all_nranks = []\n",
    "all_ncells = []\n",
    "all_nelaps = []\n",
    "all_mcells = []\n",
    "all_msteps = []\n",
    "\n",
    "for file in files:\n",
    "\n",
    "    markers = []\n",
    "    nranks = []\n",
    "    ncells = []\n",
    "    nelaps = []\n",
    "    mcells = []\n",
    "    msteps = []\n",
    "\n",
    "    ####################\n",
    "    # impi exec times\n",
    "    ####################\n",
    "\n",
    "    f = open(file, 'r')\n",
    "    for i, line in enumerate(f,1):\n",
    "\n",
    "        # find all \"phase statistics\" line numbers\n",
    "        if \"Phase statistics:\" in line:\n",
    "            markers = markers + [i]\n",
    "\n",
    "        # Get nranks & ncells vs. time\n",
    "        if \">>>\" in line:\n",
    "            larr = line.split()\n",
    "            try:\n",
    "                ranks = int(larr[-1])\n",
    "                cells = int(larr[-3][:-1])\n",
    "                elaps = float(larr[-5][:-1])\n",
    "            except:\n",
    "                pass\n",
    "            else: \n",
    "                nranks = nranks + [ranks]\n",
    "                nelaps = nelaps + [elaps]\n",
    "                ncells = ncells + [cells * ranks]   \n",
    "\n",
    "            # Get mcells vs. time steps\n",
    "            if \"time step:\" in line:\n",
    "                idx = larr.index('step:')\n",
    "                msteps = msteps + [int(larr[idx+1][:-1])]\n",
    "                idx = larr.index('cells:')\n",
    "                mcells = mcells + [cells * ranks]      \n",
    "    f.close()\n",
    "    \n",
    "    all_markers = all_markers + [markers]\n",
    "    all_nranks = all_nranks + [nranks]\n",
    "    all_ncells = all_ncells + [ncells]\n",
    "    all_nelaps = all_nelaps + [nelaps]\n",
    "    all_mcells = all_mcells + [mcells]\n",
    "    all_msteps = all_msteps + [msteps]\n",
    "\n",
    "\n",
    "print(all_markers)\n",
    "    \n",
    "print(all_markers[0])\n",
    "\n"
   ]
  },
  {
   "cell_type": "markdown",
   "metadata": {},
   "source": [
    "# # Cells vs. Time step"
   ]
  },
  {
   "cell_type": "code",
   "execution_count": 14,
   "metadata": {
    "collapsed": false
   },
   "outputs": [
    {
     "data": {
      "text/plain": [
       "<matplotlib.text.Text at 0x7fc7a05fa978>"
      ]
     },
     "execution_count": 14,
     "metadata": {},
     "output_type": "execute_result"
    },
    {
     "data": {
      "image/png": "[encoded data removed]",
      "text/plain": [
       "<matplotlib.figure.Figure at 0x7fc7a06594e0>"
      ]
     },
     "metadata": {},
     "output_type": "display_data"
    }
   ],
   "source": [
    "fig = plt.figure()\n",
    "ax = fig.gca()\n",
    "\n",
    "for i in range(0, len(files)):\n",
    "    msteps = all_msteps[i]\n",
    "    mcells = all_mcells[i]    \n",
    "    ax.plot(msteps, mcells)\n",
    "\n",
    "ax.set_xlabel(\"Simulation time step\")\n",
    "ax.set_ylabel(\"Estimated number of grid cells\")\n",
    "    \n",
    "    \n",
    "#fig.savefig(path+\"/cells_vs_steps.pdf\",bbox_inches=\"tight\")"
   ]
  },
  {
   "cell_type": "markdown",
   "metadata": {},
   "source": [
    "# # Ranks vs. Exec Time"
   ]
  },
  {
   "cell_type": "code",
   "execution_count": 47,
   "metadata": {
    "collapsed": false
   },
   "outputs": [
    {
     "data": {
      "image/png": "[encoded data removed]",
      "text/plain": [
       "<matplotlib.figure.Figure at 0x7fc79fc91c50>"
      ]
     },
     "metadata": {},
     "output_type": "display_data"
    }
   ],
   "source": [
    "fig = plt.figure()\n",
    "ax = fig.gca()\n",
    "\n",
    "areas = [None] * len(files)\n",
    "cpuhr = [None] * len(files)\n",
    "for i in range(0, len(files)):\n",
    "    nelaps = all_nelaps[i]\n",
    "    nranks = all_nranks[i]    \n",
    "    ax.plot(nelaps, nranks, color=colors[i], label=labels[i])\n",
    "    ax.plot((nelaps[-1], nelaps[-1]), (0, nranks[-1]), color=colors[i], linestyle='--')\n",
    "    \n",
    "    areas[i] = np.trapz(nranks, x=nelaps)\n",
    "    cpuhr[i] = areas[i]/3600\n",
    "\n",
    "ax.set_xlabel(\"Execution time (sec)\")\n",
    "ax.set_ylabel(\"Number of MPI ranks\")\n",
    "lgd = ax.legend(loc=\"lower center\", bbox_to_anchor=(0.5, 1))\n",
    "\n",
    "ax.text(50, 400, r'Area = %d' % areas[0], color=colors[0], fontsize=12)\n",
    "ax.text(50, 360, r'CPU-Hour = %.2f' % cpuhr[0], color=colors[0], fontsize=12)\n",
    "\n",
    "ax.text(150, 100, r'Area = %d' % areas[1], color=colors[1], fontsize=12)\n",
    "ax.text(150, 60, r'CPU-Hour = %.2f' % cpuhr[1], color=colors[1], fontsize=12)\n",
    "\n",
    "fig.savefig(basepath + \"/cpu-hr_comparison.pdf\", bbox_extra_artists=(lgd,), bbox_inches='tight')"
   ]
  },
  {
   "cell_type": "code",
   "execution_count": 22,
   "metadata": {
    "collapsed": false
   },
   "outputs": [
    {
     "name": "stdout",
     "output_type": "stream",
     "text": [
      "[[<matplotlib.lines.Line2D object at 0x7fc7a036f160>], [<matplotlib.lines.Line2D object at 0x7fc7a036fba8>]]\n"
     ]
    }
   ],
   "source": []
  },
  {
   "cell_type": "code",
   "execution_count": null,
   "metadata": {
    "collapsed": true
   },
   "outputs": [],
   "source": []
  }
 ],
 "metadata": {
  "kernelspec": {
   "display_name": "Python 3",
   "language": "python",
   "name": "python3"
  },
  "language_info": {
   "codemirror_mode": {
    "name": "ipython",
    "version": 3
   },
   "file_extension": ".py",
   "mimetype": "text/x-python",
   "name": "python",
   "nbconvert_exporter": "python",
   "pygments_lexer": "ipython3",
   "version": "3.5.2"
  }
 },
 "nbformat": 4,
 "nbformat_minor": 1
}
