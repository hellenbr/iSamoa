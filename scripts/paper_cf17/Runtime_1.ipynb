{
 "cells": [
  {
   "cell_type": "code",
   "execution_count": 1,
   "metadata": {
    "collapsed": true
   },
   "outputs": [],
   "source": [
    "%matplotlib inline\n",
    "import matplotlib\n",
    "import numpy as np\n",
    "import matplotlib.pyplot as plt\n",
    "import linecache"
   ]
  },
  {
   "cell_type": "code",
   "execution_count": 2,
   "metadata": {
    "collapsed": false
   },
   "outputs": [
    {
     "name": "stdout",
     "output_type": "stream",
     "text": [
      "/home/emily/Desktop/isamoa_data/good3_sb32n16t_d26min66_irmfit_1458883/1458883.log\n"
     ]
    }
   ],
   "source": [
    "# set data path\n",
    "basepath = \"/home/emily/Desktop/isamoa_data/\"\n",
    "path = basepath + \"good3_sb32n16t_d26min66_irmfit_1458883\"\n",
    "\n",
    "jobid = path[-7:]\n",
    "filename = path + '/' + jobid + '.log'\n",
    "print(filename)"
   ]
  },
  {
   "cell_type": "markdown",
   "metadata": {},
   "source": [
    "# Process data"
   ]
  },
  {
   "cell_type": "code",
   "execution_count": 13,
   "metadata": {
    "collapsed": false
   },
   "outputs": [
    {
     "name": "stdout",
     "output_type": "stream",
     "text": [
      "Total tsnami phase time = 205.1298\n",
      "Total computation time = 62.54481506696429\n",
      "Total grid adaptation time = 50.485827027529766\n",
      "Total grid conformity check time = 27.737947972470238\n",
      "Total load balancing time = 45.26126569940476\n",
      "Total others time = 1.8734840401785684\n",
      "\n",
      "Averge MPI_Init_adapt: 0.039\n",
      "Averge MPI_Probe_adapt: 0.0005730897740112993\n",
      "Averge MPI_Adapt_begin: 2.775874915\n",
      "Averge MPI_Adapt_commit: 0.10262674249999999\n",
      "Averge Data migration: 0.01855104749999996\n",
      "\n",
      "Accumulative MPI_Init_adapt: 0.039\n",
      "Accumulative MPI_Probe_adapt: 0.10143688999999997\n",
      "Accumulative MPI_Adapt_begin: 11.10349966\n",
      "Accumulative MPI_Adapt_commit: 0.41050696999999997\n",
      "Accumulative Data migration: 0.07420418999999984\n",
      "\n",
      "Total resource adaptation time: 11.689647710000001\n"
     ]
    }
   ],
   "source": [
    "phase_stats_markers = []\n",
    "\n",
    "nranks = []\n",
    "ncells = []\n",
    "nelaps = []\n",
    "\n",
    "impi_init = []\n",
    "impi_probe = []\n",
    "impi_begin = []\n",
    "impi_commit = []\n",
    "impi_adapt = []\n",
    "\n",
    "####################\n",
    "# impi exec times\n",
    "####################\n",
    "\n",
    "f = open(filename, 'r')\n",
    "for i, line in enumerate(f,1):\n",
    "    \n",
    "    # find all \"phase statistics\" line numbers\n",
    "    if \"Phase statistics:\" in line:\n",
    "        phase_stats_markers = phase_stats_markers + [i]\n",
    "        \n",
    "    # Get nranks & ncells\n",
    "    if \">>>\" in line:\n",
    "        line = line.split()\n",
    "        try:\n",
    "            ranks = int(line[-1])\n",
    "            cells = int(line[-3][:-1])\n",
    "            elaps = float(line[-5][:-1])\n",
    "        except:\n",
    "            pass\n",
    "        else: \n",
    "            nranks = nranks + [ranks]\n",
    "            nelaps = nelaps + [elaps]\n",
    "            ncells = ncells + [cells * ranks]\n",
    "            \n",
    "    # Get MPI_Adapt_init time\n",
    "    if \"init_adapt\" in line:\n",
    "        line = line.split()\n",
    "        idx = line.index(\"init_adapt\")\n",
    "        try:\n",
    "            t = float(line[idx+1])\n",
    "        except:\n",
    "            pass\n",
    "        else:\n",
    "            impi_init = impi_init + [t]\n",
    "\n",
    "    # Get MPI_Probe_adapt time\n",
    "    if \"probe_adapt\" in line:\n",
    "        line = line.split()\n",
    "        idx = line.index(\"probe_adapt\")\n",
    "        try:\n",
    "            time = float(line[idx+1])\n",
    "        except:\n",
    "            pass\n",
    "        else:\n",
    "            impi_probe = impi_probe + [time]\n",
    "            \n",
    "    # Get MPI_Comm_adapt_begin time\n",
    "    if \"adapt_begin\" in line:\n",
    "        line = line.split()\n",
    "        idx = line.index(\"adapt_begin\")\n",
    "        try:\n",
    "            time = float(line[idx+1])\n",
    "        except:\n",
    "            pass\n",
    "        else:\n",
    "            impi_begin = impi_begin + [time]\n",
    "\n",
    "    # Get MPI_Comm_adapt_commit time\n",
    "    if \"adapt_commit\" in line:\n",
    "        line = line.split()\n",
    "        idx = line.index(\"adapt_commit\")\n",
    "        try:\n",
    "            time = float(line[idx+1])\n",
    "        except:\n",
    "            pass\n",
    "        else:\n",
    "            impi_commit = impi_commit + [time]\n",
    "\n",
    "    # Get adaption time\n",
    "    if \"Total adaption time\" in line:\n",
    "        line = line.split()\n",
    "        idx = line.index(\"=\")\n",
    "        try:\n",
    "            time = float(line[idx+1])\n",
    "        except:\n",
    "            pass\n",
    "        else:\n",
    "            impi_adapt = impi_adapt + [time]            \n",
    "f.close()\n",
    "\n",
    "\n",
    "#####################\n",
    "# Phase statistics:\n",
    "#\n",
    "# Phase time = (Grid time + load balancing time + conformity time) / (# ranks)\n",
    "#            = (time steps time + adaptions time + load balancing time + conformity time + others) / (# ranks)\n",
    "#\n",
    "# Grid = Time steps + Adaptions + Output + X\n",
    "#\n",
    "#####################\n",
    "\n",
    "t_phase = 0.0\n",
    "t_timesteps = 0.0\n",
    "t_adaptions = 0.0 \n",
    "t_conformity = 0.0\n",
    "t_lb = 0.0\n",
    "t_others = 0.0\n",
    "\n",
    "#remove the initialization and displacement phases\n",
    "phase_stats_markers = phase_stats_markers[2:]\n",
    "\n",
    "for marker in phase_stats_markers:\n",
    "    \n",
    "    # ranks\n",
    "    line = linecache.getline(filename, marker+2)\n",
    "    larr = line.split()\n",
    "    n_ranks = int(larr[-1])\n",
    "    \n",
    "    # Phase time\n",
    "    line = linecache.getline(filename, marker+13)\n",
    "    larr = line.split()\n",
    "    idx = larr.index(\"time:\")\n",
    "    t_phase = t_phase + float(larr[idx+1]) \n",
    "    \n",
    "    # Time step computation time\n",
    "    line = linecache.getline(filename, marker+5)\n",
    "    larr = line.split()\n",
    "    idx = larr.index(\"time:\")\n",
    "    tsteps_time = float(larr[idx+1])/float(n_ranks)\n",
    "    t_timesteps = t_timesteps + tsteps_time\n",
    "    \n",
    "    # Grid adaption time\n",
    "    line = linecache.getline(filename, marker+6)\n",
    "    larr = line.split()\n",
    "    idx = larr.index(\"time:\")\n",
    "    adap_time = float(larr[idx+1])/float(n_ranks)\n",
    "    t_adaptions = t_adaptions + adap_time\n",
    "    \n",
    "    # Grid conformity check time\n",
    "    line = linecache.getline(filename, marker+6)\n",
    "    larr = line.split()\n",
    "    idx = larr.index(\"integrity:\")\n",
    "    comform_time = float(larr[idx+1])/float(n_ranks)  \n",
    "    t_conformity = t_conformity + comform_time\n",
    "    \n",
    "    # Load balancing time\n",
    "    line = linecache.getline(filename, marker+6)\n",
    "    larr = line.split()\n",
    "    idx = larr.index(\"balancing:\")\n",
    "    lb_time = float(larr[idx+1])/float(n_ranks)\n",
    "    t_lb = t_lb + lb_time\n",
    "    \n",
    "    # Other misc. time\n",
    "    line = linecache.getline(filename, marker+7)\n",
    "    larr = line.split()\n",
    "    idx = larr.index(\"time:\")\n",
    "    grid_time = float(larr[idx+1])/float(n_ranks)\n",
    "    t_others = t_others + (grid_time - tsteps_time - adap_time)\n",
    "    \n",
    "print(\"Total tsnami phase time = {}\".format(t_phase))\n",
    "print(\"Total computation time = {}\".format(t_timesteps))\n",
    "print(\"Total grid adaptation time = {}\".format(t_adaptions))\n",
    "print(\"Total grid conformity check time = {}\".format(t_conformity))\n",
    "print(\"Total load balancing time = {}\".format(t_lb))\n",
    "print(\"Total others time = {}\".format(t_others))\n",
    "print(\"\")\n",
    "    \n",
    "####################\n",
    "# iMPI times\n",
    "####################\n",
    "\n",
    "# Only count completed resource adaptations\n",
    "n = len(impi_adapt)\n",
    "impi_begin = impi_begin[:n]\n",
    "impi_commit = impi_commit[:n]\n",
    "\n",
    "# Compute total\n",
    "impi_init_sum = sum(impi_init)\n",
    "impi_probe_sum = sum(impi_probe)\n",
    "impi_begin_sum = sum(impi_begin)\n",
    "impi_commit_sum = sum(impi_commit)\n",
    "impi_distr_sum = sum(impi_adapt) - impi_begin_sum - impi_commit_sum\n",
    "impi_total = impi_probe_sum + impi_begin_sum + impi_commit_sum + impi_distr_sum\n",
    "\n",
    "# Print\n",
    "print(\"Averge MPI_Init_adapt: {}\".format(impi_init_sum/len(impi_init)))\n",
    "print(\"Averge MPI_Probe_adapt: {}\".format(impi_probe_sum/len(impi_probe)))\n",
    "print(\"Averge MPI_Adapt_begin: {}\".format(impi_begin_sum/n))\n",
    "print(\"Averge MPI_Adapt_commit: {}\".format(impi_commit_sum/n))\n",
    "print(\"Averge Data migration: {}\".format(impi_distr_sum/n))\n",
    "print(\"\")\n",
    "print(\"Accumulative MPI_Init_adapt: {}\".format(impi_init_sum))\n",
    "print(\"Accumulative MPI_Probe_adapt: {}\".format(impi_probe_sum))\n",
    "print(\"Accumulative MPI_Adapt_begin: {}\".format(impi_begin_sum))\n",
    "print(\"Accumulative MPI_Adapt_commit: {}\".format(impi_commit_sum))\n",
    "print(\"Accumulative Data migration: {}\".format(impi_distr_sum))\n",
    "print(\"\")\n",
    "print(\"Total resource adaptation time: {}\".format(impi_total))\n",
    "\n"
   ]
  },
  {
   "cell_type": "markdown",
   "metadata": {},
   "source": [
    "# # Cells vs. Exec Time"
   ]
  },
  {
   "cell_type": "code",
   "execution_count": 8,
   "metadata": {
    "collapsed": false
   },
   "outputs": [
    {
     "data": {
      "image/png": "[encoded data removed]",
      "text/plain": [
       "<matplotlib.figure.Figure at 0x7f7fba572be0>"
      ]
     },
     "metadata": {},
     "output_type": "display_data"
    }
   ],
   "source": [
    "fig = plt.figure()\n",
    "ax = fig.gca()\n",
    "ax.plot(nelaps, ncells)\n",
    "ax.set_xlabel(\"Execution time (sec)\")\n",
    "ax.set_ylabel(\"Number of grid cells\")\n",
    "\n",
    "fig.savefig(path+\"/cells_vs_time.pdf\",bbox_inches=\"tight\")"
   ]
  },
  {
   "cell_type": "markdown",
   "metadata": {},
   "source": [
    "# # Ranks vs. Exec Time"
   ]
  },
  {
   "cell_type": "code",
   "execution_count": 9,
   "metadata": {
    "collapsed": false
   },
   "outputs": [
    {
     "data": {
      "image/png": "[encoded data removed]",
      "text/plain": [
       "<matplotlib.figure.Figure at 0x7f7fba5186a0>"
      ]
     },
     "metadata": {},
     "output_type": "display_data"
    }
   ],
   "source": [
    "fig = plt.figure()\n",
    "ax = fig.gca()\n",
    "ax.plot(nelaps, nranks)\n",
    "ax.set_xlabel(\"Execution time (sec)\")\n",
    "ax.set_ylabel(\"Number of MPI ranks\")\n",
    "ax.set_ylim(0, 520)\n",
    "\n",
    "fig.savefig(path+\"/ranks_vs_time.pdf\",bbox_inches=\"tight\")"
   ]
  },
  {
   "cell_type": "markdown",
   "metadata": {},
   "source": [
    "# Component Runtime"
   ]
  },
  {
   "cell_type": "code",
   "execution_count": 24,
   "metadata": {
    "collapsed": false
   },
   "outputs": [
    {
     "data": {
      "image/png": "[encoded data removed]",
      "text/plain": [
       "<matplotlib.figure.Figure at 0x7f7fb7729518>"
      ]
     },
     "metadata": {},
     "output_type": "display_data"
    }
   ],
   "source": [
    "# t_phase = 0.0\n",
    "# t_timesteps = 0.0\n",
    "# t_adaptions = 0.0 \n",
    "# t_conformity = 0.0\n",
    "# t_lb = 0.0\n",
    "# t_others = 0.0\n",
    "\n",
    "t_others = t_phase - t_timesteps - t_adaptions - t_conformity - t_lb - impi_total\n",
    "\n",
    "data = np.array([   \n",
    "    [\"Grid refinement\", \"lightpink\", t_adaptions, 0], \\\n",
    "    [\"Grid conformity check\", \"lightcoral\", t_conformity, 0], \\\n",
    "    [\"Load Balancing\", \"yellowgreen\", t_lb, 0],\\\n",
    "    [\"Time step computation\", \"lightskyblue\", t_timesteps, 0],\\\n",
    "    [\"Resource adaptation\", \"gold\", impi_total, 0.1],\\\n",
    "    [\"others\", \"darkgrey\", t_others, 0]\n",
    "])\n",
    "labels = data[:,0].tolist()\n",
    "colors = data[:,1].tolist()\n",
    "sizes = [float(i) for i in (data[:,2]).tolist()]\n",
    "explode = [float(i) for i in (data[:,3]).tolist()]\n",
    "\n",
    "fig = plt.figure()\n",
    "ax = fig.gca()\n",
    "patches, texts, autotexts = ax.pie(sizes, explode=explode, colors=colors, autopct='%1.1f%%', \\\n",
    "        shadow=False, startangle=0)\n",
    "ax.axis('equal')\n",
    "lgd = ax.legend(patches, labels, loc=\"lower center\", bbox_to_anchor=(0.5, 1))\n",
    "fig.savefig(path + \"/pine_components.pdf\", bbox_extra_artists=(lgd,), bbox_inches='tight')\n"
   ]
  },
  {
   "cell_type": "markdown",
   "metadata": {},
   "source": [
    "# Resource adaptation component view"
   ]
  },
  {
   "cell_type": "code",
   "execution_count": 15,
   "metadata": {
    "collapsed": false
   },
   "outputs": [
    {
     "data": {
      "image/png": "[encoded data removed]",
      "text/plain": [
       "<matplotlib.figure.Figure at 0x7f7fb7ebe160>"
      ]
     },
     "metadata": {},
     "output_type": "display_data"
    }
   ],
   "source": [
    "fig = plt.figure()\n",
    "ax = fig.gca()\n",
    "width = 1\n",
    "# Layer 1. probe (bar tip)\n",
    "data = impi_total\n",
    "p1 = ax.barh(0, data, width, color='gold', align='center', label='Accumu. MPI_Probe_adapt time')\n",
    "\n",
    "# Layer 2. begin \n",
    "data = data - impi_probe_sum\n",
    "p2 = ax.barh(0, data, width, color='lightskyblue', align='center', label='Accumu. MPI_Comm_adapt_begin time')\n",
    "\n",
    "# Layer 3. commit\n",
    "data = data - impi_begin_sum\n",
    "p3 = ax.barh(0, data, width, color='yellowgreen', align='center', label='Accumu. MPI_Comm_adapt_commit time')\n",
    "\n",
    "# Layer 4. distribution (bar root)\n",
    "data = data - impi_commit_sum\n",
    "p4 = ax.barh(0, data, width, color='lightcoral', align='center', label='Accumu. data migration time')\n",
    "\n",
    "ax.set_xlabel('Wall time (sec)')\n",
    "ax.legend()\n",
    "ax.set_ylim(-1, 3)\n",
    "ax.tick_params(axis='y', which='both', bottom='off', top='off', labelbottom='off',\\\n",
    "               labelleft='off', labeltop='off', labelright='off')\n",
    "\n",
    "# ax.text(1.4, -0.1, r'$3.22$', fontsize=12)\n",
    "# ax.text(3.8, -0.1, r'$1.73$', fontsize=12)\n",
    "# ax.text(5.2, -0.1, r'$1.02$', fontsize=12)\n",
    "# ax.text(6.2, -0.1, r'$0.08$', fontsize=12)\n",
    "# plt.plot([total_sum-0.1, total_sum+0.1], [0, 0], 'k-', lw=1)\n",
    "# ax.text(2.8, 0.9, r'Total adaptation time = $6.06$', fontsize=12)\n",
    "# plt.plot([total_sum, total_sum], [-1, 0.85], 'k-', lw=1)\n",
    "\n",
    "fig.savefig(path + \"/adaption_breakdown.pdf\", bbox_inches='tight')"
   ]
  }
 ],
 "metadata": {
  "kernelspec": {
   "display_name": "Python 3",
   "language": "python",
   "name": "python3"
  },
  "language_info": {
   "codemirror_mode": {
    "name": "ipython",
    "version": 3
   },
   "file_extension": ".py",
   "mimetype": "text/x-python",
   "name": "python",
   "nbconvert_exporter": "python",
   "pygments_lexer": "ipython3",
   "version": "3.5.2"
  }
 },
 "nbformat": 4,
 "nbformat_minor": 1
}
